{
  "cells": [
    {
      "cell_type": "markdown",
      "metadata": {
        "id": "view-in-github",
        "colab_type": "text"
      },
      "source": [
        "<a href=\"https://colab.research.google.com/github/KrajShuffle/ML_Audio_Models/blob/main/Sep_Audio_CNN.ipynb\" target=\"_parent\"><img src=\"https://colab.research.google.com/assets/colab-badge.svg\" alt=\"Open In Colab\"/></a>"
      ]
    },
    {
      "cell_type": "code",
      "source": [
        "!pip install torchmetrics"
      ],
      "metadata": {
        "colab": {
          "base_uri": "https://localhost:8080/"
        },
        "id": "jIvDgs2An7s4",
        "outputId": "4e981165-8a71-4541-d462-e0a47cfa9140"
      },
      "id": "jIvDgs2An7s4",
      "execution_count": 1,
      "outputs": [
        {
          "output_type": "stream",
          "name": "stdout",
          "text": [
            "Collecting torchmetrics\n",
            "  Downloading torchmetrics-1.1.1-py3-none-any.whl (763 kB)\n",
            "\u001b[?25l     \u001b[90m━━━━━━━━━━━━━━━━━━━━━━━━━━━━━━━━━━━━━━━━\u001b[0m \u001b[32m0.0/763.4 kB\u001b[0m \u001b[31m?\u001b[0m eta \u001b[36m-:--:--\u001b[0m\r\u001b[2K     \u001b[91m━━━━━━\u001b[0m\u001b[90m╺\u001b[0m\u001b[90m━━━━━━━━━━━━━━━━━━━━━━━━━━━━━━━━\u001b[0m \u001b[32m122.9/763.4 kB\u001b[0m \u001b[31m3.5 MB/s\u001b[0m eta \u001b[36m0:00:01\u001b[0m\r\u001b[2K     \u001b[90m━━━━━━━━━━━━━━━━━━━━━━━━━━━━━━━━━━━━━━\u001b[0m \u001b[32m763.4/763.4 kB\u001b[0m \u001b[31m13.9 MB/s\u001b[0m eta \u001b[36m0:00:00\u001b[0m\n",
            "\u001b[?25hRequirement already satisfied: numpy>1.20.0 in /usr/local/lib/python3.10/dist-packages (from torchmetrics) (1.23.5)\n",
            "Requirement already satisfied: torch>=1.8.1 in /usr/local/lib/python3.10/dist-packages (from torchmetrics) (2.0.1+cu118)\n",
            "Collecting lightning-utilities>=0.8.0 (from torchmetrics)\n",
            "  Downloading lightning_utilities-0.9.0-py3-none-any.whl (23 kB)\n",
            "Requirement already satisfied: packaging>=17.1 in /usr/local/lib/python3.10/dist-packages (from lightning-utilities>=0.8.0->torchmetrics) (23.1)\n",
            "Requirement already satisfied: typing-extensions in /usr/local/lib/python3.10/dist-packages (from lightning-utilities>=0.8.0->torchmetrics) (4.7.1)\n",
            "Requirement already satisfied: filelock in /usr/local/lib/python3.10/dist-packages (from torch>=1.8.1->torchmetrics) (3.12.2)\n",
            "Requirement already satisfied: sympy in /usr/local/lib/python3.10/dist-packages (from torch>=1.8.1->torchmetrics) (1.12)\n",
            "Requirement already satisfied: networkx in /usr/local/lib/python3.10/dist-packages (from torch>=1.8.1->torchmetrics) (3.1)\n",
            "Requirement already satisfied: jinja2 in /usr/local/lib/python3.10/dist-packages (from torch>=1.8.1->torchmetrics) (3.1.2)\n",
            "Requirement already satisfied: triton==2.0.0 in /usr/local/lib/python3.10/dist-packages (from torch>=1.8.1->torchmetrics) (2.0.0)\n",
            "Requirement already satisfied: cmake in /usr/local/lib/python3.10/dist-packages (from triton==2.0.0->torch>=1.8.1->torchmetrics) (3.27.2)\n",
            "Requirement already satisfied: lit in /usr/local/lib/python3.10/dist-packages (from triton==2.0.0->torch>=1.8.1->torchmetrics) (16.0.6)\n",
            "Requirement already satisfied: MarkupSafe>=2.0 in /usr/local/lib/python3.10/dist-packages (from jinja2->torch>=1.8.1->torchmetrics) (2.1.3)\n",
            "Requirement already satisfied: mpmath>=0.19 in /usr/local/lib/python3.10/dist-packages (from sympy->torch>=1.8.1->torchmetrics) (1.3.0)\n",
            "Installing collected packages: lightning-utilities, torchmetrics\n",
            "Successfully installed lightning-utilities-0.9.0 torchmetrics-1.1.1\n"
          ]
        }
      ]
    },
    {
      "cell_type": "code",
      "execution_count": 2,
      "id": "2550788d",
      "metadata": {
        "id": "2550788d"
      },
      "outputs": [],
      "source": [
        "import numpy as np\n",
        "import pandas as pd\n",
        "import sklearn\n",
        "import matplotlib.pyplot as plt\n",
        "import seaborn as sns\n",
        "\n",
        "## Data Processing\n",
        "import os\n",
        "from tqdm import tqdm\n",
        "import librosa\n",
        "import torch"
      ]
    },
    {
      "cell_type": "code",
      "source": [
        "from google.colab import drive\n",
        "drive.mount('/content/drive') # Allows connection to google drive for credentials"
      ],
      "metadata": {
        "colab": {
          "base_uri": "https://localhost:8080/"
        },
        "id": "0q8Y0uO55CW8",
        "outputId": "e04cb8c5-3d37-447d-8ba1-8f00343f0181"
      },
      "id": "0q8Y0uO55CW8",
      "execution_count": 3,
      "outputs": [
        {
          "output_type": "stream",
          "name": "stdout",
          "text": [
            "Mounted at /content/drive\n"
          ]
        }
      ]
    },
    {
      "cell_type": "code",
      "source": [
        "%cd /content/drive/MyDrive/AWS_Alcohol_Tenvos\n",
        "%pwd"
      ],
      "metadata": {
        "colab": {
          "base_uri": "https://localhost:8080/",
          "height": 73
        },
        "id": "iBQCmsgJ5JQr",
        "outputId": "3d571d86-2f78-4753-9fce-ff90a96cad75"
      },
      "id": "iBQCmsgJ5JQr",
      "execution_count": 4,
      "outputs": [
        {
          "output_type": "stream",
          "name": "stdout",
          "text": [
            "/content/drive/MyDrive/AWS_Alcohol_Tenvos\n"
          ]
        },
        {
          "output_type": "execute_result",
          "data": {
            "text/plain": [
              "'/content/drive/MyDrive/AWS_Alcohol_Tenvos'"
            ],
            "application/vnd.google.colaboratory.intrinsic+json": {
              "type": "string"
            }
          },
          "metadata": {},
          "execution_count": 4
        }
      ]
    },
    {
      "cell_type": "markdown",
      "id": "4a675d48",
      "metadata": {
        "id": "4a675d48"
      },
      "source": [
        "### Loading Train, Val, Test Dataset & Labels"
      ]
    },
    {
      "cell_type": "code",
      "source": [
        "def load_ds_labels(ds_name):\n",
        "  \"\"\" Options include \"train\", \"val\", \"test\" & Code for Labels -> {\"I\" : 0, \"S\" : 1}\n",
        "  \"\"\"\n",
        "  arr_ds_specs = np.load(ds_name + \"_spectrogram_data.npy\")\n",
        "  print(arr_ds_specs.shape)\n",
        "  df_ds_mapping = pd.read_csv(ds_name + \"_class_wav.csv\", index_col = 0)\n",
        "  df_ds_mapping['y_label'] = df_ds_mapping[\"Imp_Sob\"].apply(lambda x: 0 if x == \"I\" else 1)\n",
        "  y_labels = df_ds_mapping['y_label'].values\n",
        "  return arr_ds_specs, df_ds_mapping, y_labels"
      ],
      "metadata": {
        "id": "3mKndXH557s9"
      },
      "id": "3mKndXH557s9",
      "execution_count": 5,
      "outputs": []
    },
    {
      "cell_type": "code",
      "source": [
        "dict_labels = {'I' : 0, \"S\" : 1}\n",
        "dict_labels"
      ],
      "metadata": {
        "colab": {
          "base_uri": "https://localhost:8080/"
        },
        "id": "4dUeNMY--Xe8",
        "outputId": "8013ac9b-e347-42bc-8696-79299a372eb0"
      },
      "id": "4dUeNMY--Xe8",
      "execution_count": 6,
      "outputs": [
        {
          "output_type": "execute_result",
          "data": {
            "text/plain": [
              "{'I': 0, 'S': 1}"
            ]
          },
          "metadata": {},
          "execution_count": 6
        }
      ]
    },
    {
      "cell_type": "code",
      "source": [
        "arr_train_specs, df_train_mapping, train_y = load_ds_labels(\"train\")\n",
        "df_train_mapping"
      ],
      "metadata": {
        "colab": {
          "base_uri": "https://localhost:8080/",
          "height": 464
        },
        "id": "9sEMa9Ek9hxj",
        "outputId": "938a2f5c-0571-4347-b570-ffca7a7743ab"
      },
      "id": "9sEMa9Ek9hxj",
      "execution_count": 7,
      "outputs": [
        {
          "output_type": "stream",
          "name": "stdout",
          "text": [
            "(4650, 128, 300)\n"
          ]
        },
        {
          "output_type": "execute_result",
          "data": {
            "text/plain": [
              "      Array_Pos             Filename  Session  Time_sec Imp_Sob  y_label\n",
              "0             0  0171017001_h_00.wav  ses1017      7.94       I        0\n",
              "1             1  0171017015_h_00.wav  ses1017      5.73       I        0\n",
              "2             2  0171017030_h_00.wav  ses1017      6.51       I        0\n",
              "3             3  0171017016_h_00.wav  ses1017      6.64       I        0\n",
              "4             4  0171017002_h_00.wav  ses1017     61.20       I        0\n",
              "...         ...                  ...      ...       ...     ...      ...\n",
              "4645       4645  5323033011_h_00.wav  ses3033      6.94       I        0\n",
              "4646       4646  5323033014_h_00.wav  ses3033     11.46       I        0\n",
              "4647       4647  5323033012_h_00.wav  ses3033     11.44       I        0\n",
              "4648       4648  5323033015_h_00.wav  ses3033      6.42       I        0\n",
              "4649       4649  5323033013_h_00.wav  ses3033      5.18       I        0\n",
              "\n",
              "[4650 rows x 6 columns]"
            ],
            "text/html": [
              "\n",
              "  <div id=\"df-b3eb8e79-1616-4e4d-9320-59ee6132b24f\" class=\"colab-df-container\">\n",
              "    <div>\n",
              "<style scoped>\n",
              "    .dataframe tbody tr th:only-of-type {\n",
              "        vertical-align: middle;\n",
              "    }\n",
              "\n",
              "    .dataframe tbody tr th {\n",
              "        vertical-align: top;\n",
              "    }\n",
              "\n",
              "    .dataframe thead th {\n",
              "        text-align: right;\n",
              "    }\n",
              "</style>\n",
              "<table border=\"1\" class=\"dataframe\">\n",
              "  <thead>\n",
              "    <tr style=\"text-align: right;\">\n",
              "      <th></th>\n",
              "      <th>Array_Pos</th>\n",
              "      <th>Filename</th>\n",
              "      <th>Session</th>\n",
              "      <th>Time_sec</th>\n",
              "      <th>Imp_Sob</th>\n",
              "      <th>y_label</th>\n",
              "    </tr>\n",
              "  </thead>\n",
              "  <tbody>\n",
              "    <tr>\n",
              "      <th>0</th>\n",
              "      <td>0</td>\n",
              "      <td>0171017001_h_00.wav</td>\n",
              "      <td>ses1017</td>\n",
              "      <td>7.94</td>\n",
              "      <td>I</td>\n",
              "      <td>0</td>\n",
              "    </tr>\n",
              "    <tr>\n",
              "      <th>1</th>\n",
              "      <td>1</td>\n",
              "      <td>0171017015_h_00.wav</td>\n",
              "      <td>ses1017</td>\n",
              "      <td>5.73</td>\n",
              "      <td>I</td>\n",
              "      <td>0</td>\n",
              "    </tr>\n",
              "    <tr>\n",
              "      <th>2</th>\n",
              "      <td>2</td>\n",
              "      <td>0171017030_h_00.wav</td>\n",
              "      <td>ses1017</td>\n",
              "      <td>6.51</td>\n",
              "      <td>I</td>\n",
              "      <td>0</td>\n",
              "    </tr>\n",
              "    <tr>\n",
              "      <th>3</th>\n",
              "      <td>3</td>\n",
              "      <td>0171017016_h_00.wav</td>\n",
              "      <td>ses1017</td>\n",
              "      <td>6.64</td>\n",
              "      <td>I</td>\n",
              "      <td>0</td>\n",
              "    </tr>\n",
              "    <tr>\n",
              "      <th>4</th>\n",
              "      <td>4</td>\n",
              "      <td>0171017002_h_00.wav</td>\n",
              "      <td>ses1017</td>\n",
              "      <td>61.20</td>\n",
              "      <td>I</td>\n",
              "      <td>0</td>\n",
              "    </tr>\n",
              "    <tr>\n",
              "      <th>...</th>\n",
              "      <td>...</td>\n",
              "      <td>...</td>\n",
              "      <td>...</td>\n",
              "      <td>...</td>\n",
              "      <td>...</td>\n",
              "      <td>...</td>\n",
              "    </tr>\n",
              "    <tr>\n",
              "      <th>4645</th>\n",
              "      <td>4645</td>\n",
              "      <td>5323033011_h_00.wav</td>\n",
              "      <td>ses3033</td>\n",
              "      <td>6.94</td>\n",
              "      <td>I</td>\n",
              "      <td>0</td>\n",
              "    </tr>\n",
              "    <tr>\n",
              "      <th>4646</th>\n",
              "      <td>4646</td>\n",
              "      <td>5323033014_h_00.wav</td>\n",
              "      <td>ses3033</td>\n",
              "      <td>11.46</td>\n",
              "      <td>I</td>\n",
              "      <td>0</td>\n",
              "    </tr>\n",
              "    <tr>\n",
              "      <th>4647</th>\n",
              "      <td>4647</td>\n",
              "      <td>5323033012_h_00.wav</td>\n",
              "      <td>ses3033</td>\n",
              "      <td>11.44</td>\n",
              "      <td>I</td>\n",
              "      <td>0</td>\n",
              "    </tr>\n",
              "    <tr>\n",
              "      <th>4648</th>\n",
              "      <td>4648</td>\n",
              "      <td>5323033015_h_00.wav</td>\n",
              "      <td>ses3033</td>\n",
              "      <td>6.42</td>\n",
              "      <td>I</td>\n",
              "      <td>0</td>\n",
              "    </tr>\n",
              "    <tr>\n",
              "      <th>4649</th>\n",
              "      <td>4649</td>\n",
              "      <td>5323033013_h_00.wav</td>\n",
              "      <td>ses3033</td>\n",
              "      <td>5.18</td>\n",
              "      <td>I</td>\n",
              "      <td>0</td>\n",
              "    </tr>\n",
              "  </tbody>\n",
              "</table>\n",
              "<p>4650 rows × 6 columns</p>\n",
              "</div>\n",
              "    <div class=\"colab-df-buttons\">\n",
              "\n",
              "  <div class=\"colab-df-container\">\n",
              "    <button class=\"colab-df-convert\" onclick=\"convertToInteractive('df-b3eb8e79-1616-4e4d-9320-59ee6132b24f')\"\n",
              "            title=\"Convert this dataframe to an interactive table.\"\n",
              "            style=\"display:none;\">\n",
              "\n",
              "  <svg xmlns=\"http://www.w3.org/2000/svg\" height=\"24px\" viewBox=\"0 -960 960 960\">\n",
              "    <path d=\"M120-120v-720h720v720H120Zm60-500h600v-160H180v160Zm220 220h160v-160H400v160Zm0 220h160v-160H400v160ZM180-400h160v-160H180v160Zm440 0h160v-160H620v160ZM180-180h160v-160H180v160Zm440 0h160v-160H620v160Z\"/>\n",
              "  </svg>\n",
              "    </button>\n",
              "\n",
              "  <style>\n",
              "    .colab-df-container {\n",
              "      display:flex;\n",
              "      gap: 12px;\n",
              "    }\n",
              "\n",
              "    .colab-df-convert {\n",
              "      background-color: #E8F0FE;\n",
              "      border: none;\n",
              "      border-radius: 50%;\n",
              "      cursor: pointer;\n",
              "      display: none;\n",
              "      fill: #1967D2;\n",
              "      height: 32px;\n",
              "      padding: 0 0 0 0;\n",
              "      width: 32px;\n",
              "    }\n",
              "\n",
              "    .colab-df-convert:hover {\n",
              "      background-color: #E2EBFA;\n",
              "      box-shadow: 0px 1px 2px rgba(60, 64, 67, 0.3), 0px 1px 3px 1px rgba(60, 64, 67, 0.15);\n",
              "      fill: #174EA6;\n",
              "    }\n",
              "\n",
              "    .colab-df-buttons div {\n",
              "      margin-bottom: 4px;\n",
              "    }\n",
              "\n",
              "    [theme=dark] .colab-df-convert {\n",
              "      background-color: #3B4455;\n",
              "      fill: #D2E3FC;\n",
              "    }\n",
              "\n",
              "    [theme=dark] .colab-df-convert:hover {\n",
              "      background-color: #434B5C;\n",
              "      box-shadow: 0px 1px 3px 1px rgba(0, 0, 0, 0.15);\n",
              "      filter: drop-shadow(0px 1px 2px rgba(0, 0, 0, 0.3));\n",
              "      fill: #FFFFFF;\n",
              "    }\n",
              "  </style>\n",
              "\n",
              "    <script>\n",
              "      const buttonEl =\n",
              "        document.querySelector('#df-b3eb8e79-1616-4e4d-9320-59ee6132b24f button.colab-df-convert');\n",
              "      buttonEl.style.display =\n",
              "        google.colab.kernel.accessAllowed ? 'block' : 'none';\n",
              "\n",
              "      async function convertToInteractive(key) {\n",
              "        const element = document.querySelector('#df-b3eb8e79-1616-4e4d-9320-59ee6132b24f');\n",
              "        const dataTable =\n",
              "          await google.colab.kernel.invokeFunction('convertToInteractive',\n",
              "                                                    [key], {});\n",
              "        if (!dataTable) return;\n",
              "\n",
              "        const docLinkHtml = 'Like what you see? Visit the ' +\n",
              "          '<a target=\"_blank\" href=https://colab.research.google.com/notebooks/data_table.ipynb>data table notebook</a>'\n",
              "          + ' to learn more about interactive tables.';\n",
              "        element.innerHTML = '';\n",
              "        dataTable['output_type'] = 'display_data';\n",
              "        await google.colab.output.renderOutput(dataTable, element);\n",
              "        const docLink = document.createElement('div');\n",
              "        docLink.innerHTML = docLinkHtml;\n",
              "        element.appendChild(docLink);\n",
              "      }\n",
              "    </script>\n",
              "  </div>\n",
              "\n",
              "\n",
              "<div id=\"df-30bfd75d-662c-40ad-a422-001472b7d285\">\n",
              "  <button class=\"colab-df-quickchart\" onclick=\"quickchart('df-30bfd75d-662c-40ad-a422-001472b7d285')\"\n",
              "            title=\"Suggest charts.\"\n",
              "            style=\"display:none;\">\n",
              "\n",
              "<svg xmlns=\"http://www.w3.org/2000/svg\" height=\"24px\"viewBox=\"0 0 24 24\"\n",
              "     width=\"24px\">\n",
              "    <g>\n",
              "        <path d=\"M19 3H5c-1.1 0-2 .9-2 2v14c0 1.1.9 2 2 2h14c1.1 0 2-.9 2-2V5c0-1.1-.9-2-2-2zM9 17H7v-7h2v7zm4 0h-2V7h2v10zm4 0h-2v-4h2v4z\"/>\n",
              "    </g>\n",
              "</svg>\n",
              "  </button>\n",
              "\n",
              "<style>\n",
              "  .colab-df-quickchart {\n",
              "      --bg-color: #E8F0FE;\n",
              "      --fill-color: #1967D2;\n",
              "      --hover-bg-color: #E2EBFA;\n",
              "      --hover-fill-color: #174EA6;\n",
              "      --disabled-fill-color: #AAA;\n",
              "      --disabled-bg-color: #DDD;\n",
              "  }\n",
              "\n",
              "  [theme=dark] .colab-df-quickchart {\n",
              "      --bg-color: #3B4455;\n",
              "      --fill-color: #D2E3FC;\n",
              "      --hover-bg-color: #434B5C;\n",
              "      --hover-fill-color: #FFFFFF;\n",
              "      --disabled-bg-color: #3B4455;\n",
              "      --disabled-fill-color: #666;\n",
              "  }\n",
              "\n",
              "  .colab-df-quickchart {\n",
              "    background-color: var(--bg-color);\n",
              "    border: none;\n",
              "    border-radius: 50%;\n",
              "    cursor: pointer;\n",
              "    display: none;\n",
              "    fill: var(--fill-color);\n",
              "    height: 32px;\n",
              "    padding: 0;\n",
              "    width: 32px;\n",
              "  }\n",
              "\n",
              "  .colab-df-quickchart:hover {\n",
              "    background-color: var(--hover-bg-color);\n",
              "    box-shadow: 0 1px 2px rgba(60, 64, 67, 0.3), 0 1px 3px 1px rgba(60, 64, 67, 0.15);\n",
              "    fill: var(--button-hover-fill-color);\n",
              "  }\n",
              "\n",
              "  .colab-df-quickchart-complete:disabled,\n",
              "  .colab-df-quickchart-complete:disabled:hover {\n",
              "    background-color: var(--disabled-bg-color);\n",
              "    fill: var(--disabled-fill-color);\n",
              "    box-shadow: none;\n",
              "  }\n",
              "\n",
              "  .colab-df-spinner {\n",
              "    border: 2px solid var(--fill-color);\n",
              "    border-color: transparent;\n",
              "    border-bottom-color: var(--fill-color);\n",
              "    animation:\n",
              "      spin 1s steps(1) infinite;\n",
              "  }\n",
              "\n",
              "  @keyframes spin {\n",
              "    0% {\n",
              "      border-color: transparent;\n",
              "      border-bottom-color: var(--fill-color);\n",
              "      border-left-color: var(--fill-color);\n",
              "    }\n",
              "    20% {\n",
              "      border-color: transparent;\n",
              "      border-left-color: var(--fill-color);\n",
              "      border-top-color: var(--fill-color);\n",
              "    }\n",
              "    30% {\n",
              "      border-color: transparent;\n",
              "      border-left-color: var(--fill-color);\n",
              "      border-top-color: var(--fill-color);\n",
              "      border-right-color: var(--fill-color);\n",
              "    }\n",
              "    40% {\n",
              "      border-color: transparent;\n",
              "      border-right-color: var(--fill-color);\n",
              "      border-top-color: var(--fill-color);\n",
              "    }\n",
              "    60% {\n",
              "      border-color: transparent;\n",
              "      border-right-color: var(--fill-color);\n",
              "    }\n",
              "    80% {\n",
              "      border-color: transparent;\n",
              "      border-right-color: var(--fill-color);\n",
              "      border-bottom-color: var(--fill-color);\n",
              "    }\n",
              "    90% {\n",
              "      border-color: transparent;\n",
              "      border-bottom-color: var(--fill-color);\n",
              "    }\n",
              "  }\n",
              "</style>\n",
              "\n",
              "  <script>\n",
              "    async function quickchart(key) {\n",
              "      const quickchartButtonEl =\n",
              "        document.querySelector('#' + key + ' button');\n",
              "      quickchartButtonEl.disabled = true;  // To prevent multiple clicks.\n",
              "      quickchartButtonEl.classList.add('colab-df-spinner');\n",
              "      try {\n",
              "        const charts = await google.colab.kernel.invokeFunction(\n",
              "            'suggestCharts', [key], {});\n",
              "      } catch (error) {\n",
              "        console.error('Error during call to suggestCharts:', error);\n",
              "      }\n",
              "      quickchartButtonEl.classList.remove('colab-df-spinner');\n",
              "      quickchartButtonEl.classList.add('colab-df-quickchart-complete');\n",
              "    }\n",
              "    (() => {\n",
              "      let quickchartButtonEl =\n",
              "        document.querySelector('#df-30bfd75d-662c-40ad-a422-001472b7d285 button');\n",
              "      quickchartButtonEl.style.display =\n",
              "        google.colab.kernel.accessAllowed ? 'block' : 'none';\n",
              "    })();\n",
              "  </script>\n",
              "</div>\n",
              "    </div>\n",
              "  </div>\n"
            ]
          },
          "metadata": {},
          "execution_count": 7
        }
      ]
    },
    {
      "cell_type": "code",
      "source": [
        "print(len(train_y))\n",
        "train_y"
      ],
      "metadata": {
        "colab": {
          "base_uri": "https://localhost:8080/"
        },
        "id": "SNlVTB2q9yLP",
        "outputId": "9c19dee5-f237-4db2-909b-af550ec2fd8e"
      },
      "id": "SNlVTB2q9yLP",
      "execution_count": 8,
      "outputs": [
        {
          "output_type": "stream",
          "name": "stdout",
          "text": [
            "4650\n"
          ]
        },
        {
          "output_type": "execute_result",
          "data": {
            "text/plain": [
              "array([0, 0, 0, ..., 0, 0, 0])"
            ]
          },
          "metadata": {},
          "execution_count": 8
        }
      ]
    },
    {
      "cell_type": "code",
      "source": [
        "arr_val_specs, df_val_mapping, val_y = load_ds_labels(\"val\")\n",
        "df_val_mapping"
      ],
      "metadata": {
        "colab": {
          "base_uri": "https://localhost:8080/",
          "height": 464
        },
        "id": "F5mu_-0U6gbT",
        "outputId": "b4fc7ddb-9c9d-46c1-8ab7-59033b38fd58"
      },
      "id": "F5mu_-0U6gbT",
      "execution_count": 9,
      "outputs": [
        {
          "output_type": "stream",
          "name": "stdout",
          "text": [
            "(3510, 128, 300)\n"
          ]
        },
        {
          "output_type": "execute_result",
          "data": {
            "text/plain": [
              "      Array_Pos             Filename  Session Imp_Sob  y_label\n",
              "0             0  0261027001_h_01.wav  ses1027       I        0\n",
              "1             1  0261027016_h_00.wav  ses1027       I        0\n",
              "2             2  0261027002_h_00.wav  ses1027       I        0\n",
              "3             3  0261027017_h_00.wav  ses1027       I        0\n",
              "4             4  0261027003_h_00.wav  ses1027       I        0\n",
              "...         ...                  ...      ...     ...      ...\n",
              "3505       3505  5964080013_h_00.wav  ses4080       S        1\n",
              "3506       3506  5964080010_h_00.wav  ses4080       S        1\n",
              "3507       3507  5964080014_h_00.wav  ses4080       S        1\n",
              "3508       3508  5964080011_h_00.wav  ses4080       S        1\n",
              "3509       3509  5964080015_h_00.wav  ses4080       S        1\n",
              "\n",
              "[3510 rows x 5 columns]"
            ],
            "text/html": [
              "\n",
              "  <div id=\"df-4d3f1318-928f-42c3-8227-40d98dc4d82c\" class=\"colab-df-container\">\n",
              "    <div>\n",
              "<style scoped>\n",
              "    .dataframe tbody tr th:only-of-type {\n",
              "        vertical-align: middle;\n",
              "    }\n",
              "\n",
              "    .dataframe tbody tr th {\n",
              "        vertical-align: top;\n",
              "    }\n",
              "\n",
              "    .dataframe thead th {\n",
              "        text-align: right;\n",
              "    }\n",
              "</style>\n",
              "<table border=\"1\" class=\"dataframe\">\n",
              "  <thead>\n",
              "    <tr style=\"text-align: right;\">\n",
              "      <th></th>\n",
              "      <th>Array_Pos</th>\n",
              "      <th>Filename</th>\n",
              "      <th>Session</th>\n",
              "      <th>Imp_Sob</th>\n",
              "      <th>y_label</th>\n",
              "    </tr>\n",
              "  </thead>\n",
              "  <tbody>\n",
              "    <tr>\n",
              "      <th>0</th>\n",
              "      <td>0</td>\n",
              "      <td>0261027001_h_01.wav</td>\n",
              "      <td>ses1027</td>\n",
              "      <td>I</td>\n",
              "      <td>0</td>\n",
              "    </tr>\n",
              "    <tr>\n",
              "      <th>1</th>\n",
              "      <td>1</td>\n",
              "      <td>0261027016_h_00.wav</td>\n",
              "      <td>ses1027</td>\n",
              "      <td>I</td>\n",
              "      <td>0</td>\n",
              "    </tr>\n",
              "    <tr>\n",
              "      <th>2</th>\n",
              "      <td>2</td>\n",
              "      <td>0261027002_h_00.wav</td>\n",
              "      <td>ses1027</td>\n",
              "      <td>I</td>\n",
              "      <td>0</td>\n",
              "    </tr>\n",
              "    <tr>\n",
              "      <th>3</th>\n",
              "      <td>3</td>\n",
              "      <td>0261027017_h_00.wav</td>\n",
              "      <td>ses1027</td>\n",
              "      <td>I</td>\n",
              "      <td>0</td>\n",
              "    </tr>\n",
              "    <tr>\n",
              "      <th>4</th>\n",
              "      <td>4</td>\n",
              "      <td>0261027003_h_00.wav</td>\n",
              "      <td>ses1027</td>\n",
              "      <td>I</td>\n",
              "      <td>0</td>\n",
              "    </tr>\n",
              "    <tr>\n",
              "      <th>...</th>\n",
              "      <td>...</td>\n",
              "      <td>...</td>\n",
              "      <td>...</td>\n",
              "      <td>...</td>\n",
              "      <td>...</td>\n",
              "    </tr>\n",
              "    <tr>\n",
              "      <th>3505</th>\n",
              "      <td>3505</td>\n",
              "      <td>5964080013_h_00.wav</td>\n",
              "      <td>ses4080</td>\n",
              "      <td>S</td>\n",
              "      <td>1</td>\n",
              "    </tr>\n",
              "    <tr>\n",
              "      <th>3506</th>\n",
              "      <td>3506</td>\n",
              "      <td>5964080010_h_00.wav</td>\n",
              "      <td>ses4080</td>\n",
              "      <td>S</td>\n",
              "      <td>1</td>\n",
              "    </tr>\n",
              "    <tr>\n",
              "      <th>3507</th>\n",
              "      <td>3507</td>\n",
              "      <td>5964080014_h_00.wav</td>\n",
              "      <td>ses4080</td>\n",
              "      <td>S</td>\n",
              "      <td>1</td>\n",
              "    </tr>\n",
              "    <tr>\n",
              "      <th>3508</th>\n",
              "      <td>3508</td>\n",
              "      <td>5964080011_h_00.wav</td>\n",
              "      <td>ses4080</td>\n",
              "      <td>S</td>\n",
              "      <td>1</td>\n",
              "    </tr>\n",
              "    <tr>\n",
              "      <th>3509</th>\n",
              "      <td>3509</td>\n",
              "      <td>5964080015_h_00.wav</td>\n",
              "      <td>ses4080</td>\n",
              "      <td>S</td>\n",
              "      <td>1</td>\n",
              "    </tr>\n",
              "  </tbody>\n",
              "</table>\n",
              "<p>3510 rows × 5 columns</p>\n",
              "</div>\n",
              "    <div class=\"colab-df-buttons\">\n",
              "\n",
              "  <div class=\"colab-df-container\">\n",
              "    <button class=\"colab-df-convert\" onclick=\"convertToInteractive('df-4d3f1318-928f-42c3-8227-40d98dc4d82c')\"\n",
              "            title=\"Convert this dataframe to an interactive table.\"\n",
              "            style=\"display:none;\">\n",
              "\n",
              "  <svg xmlns=\"http://www.w3.org/2000/svg\" height=\"24px\" viewBox=\"0 -960 960 960\">\n",
              "    <path d=\"M120-120v-720h720v720H120Zm60-500h600v-160H180v160Zm220 220h160v-160H400v160Zm0 220h160v-160H400v160ZM180-400h160v-160H180v160Zm440 0h160v-160H620v160ZM180-180h160v-160H180v160Zm440 0h160v-160H620v160Z\"/>\n",
              "  </svg>\n",
              "    </button>\n",
              "\n",
              "  <style>\n",
              "    .colab-df-container {\n",
              "      display:flex;\n",
              "      gap: 12px;\n",
              "    }\n",
              "\n",
              "    .colab-df-convert {\n",
              "      background-color: #E8F0FE;\n",
              "      border: none;\n",
              "      border-radius: 50%;\n",
              "      cursor: pointer;\n",
              "      display: none;\n",
              "      fill: #1967D2;\n",
              "      height: 32px;\n",
              "      padding: 0 0 0 0;\n",
              "      width: 32px;\n",
              "    }\n",
              "\n",
              "    .colab-df-convert:hover {\n",
              "      background-color: #E2EBFA;\n",
              "      box-shadow: 0px 1px 2px rgba(60, 64, 67, 0.3), 0px 1px 3px 1px rgba(60, 64, 67, 0.15);\n",
              "      fill: #174EA6;\n",
              "    }\n",
              "\n",
              "    .colab-df-buttons div {\n",
              "      margin-bottom: 4px;\n",
              "    }\n",
              "\n",
              "    [theme=dark] .colab-df-convert {\n",
              "      background-color: #3B4455;\n",
              "      fill: #D2E3FC;\n",
              "    }\n",
              "\n",
              "    [theme=dark] .colab-df-convert:hover {\n",
              "      background-color: #434B5C;\n",
              "      box-shadow: 0px 1px 3px 1px rgba(0, 0, 0, 0.15);\n",
              "      filter: drop-shadow(0px 1px 2px rgba(0, 0, 0, 0.3));\n",
              "      fill: #FFFFFF;\n",
              "    }\n",
              "  </style>\n",
              "\n",
              "    <script>\n",
              "      const buttonEl =\n",
              "        document.querySelector('#df-4d3f1318-928f-42c3-8227-40d98dc4d82c button.colab-df-convert');\n",
              "      buttonEl.style.display =\n",
              "        google.colab.kernel.accessAllowed ? 'block' : 'none';\n",
              "\n",
              "      async function convertToInteractive(key) {\n",
              "        const element = document.querySelector('#df-4d3f1318-928f-42c3-8227-40d98dc4d82c');\n",
              "        const dataTable =\n",
              "          await google.colab.kernel.invokeFunction('convertToInteractive',\n",
              "                                                    [key], {});\n",
              "        if (!dataTable) return;\n",
              "\n",
              "        const docLinkHtml = 'Like what you see? Visit the ' +\n",
              "          '<a target=\"_blank\" href=https://colab.research.google.com/notebooks/data_table.ipynb>data table notebook</a>'\n",
              "          + ' to learn more about interactive tables.';\n",
              "        element.innerHTML = '';\n",
              "        dataTable['output_type'] = 'display_data';\n",
              "        await google.colab.output.renderOutput(dataTable, element);\n",
              "        const docLink = document.createElement('div');\n",
              "        docLink.innerHTML = docLinkHtml;\n",
              "        element.appendChild(docLink);\n",
              "      }\n",
              "    </script>\n",
              "  </div>\n",
              "\n",
              "\n",
              "<div id=\"df-218b9a14-3ee6-40c3-865f-e6eb0b71cafb\">\n",
              "  <button class=\"colab-df-quickchart\" onclick=\"quickchart('df-218b9a14-3ee6-40c3-865f-e6eb0b71cafb')\"\n",
              "            title=\"Suggest charts.\"\n",
              "            style=\"display:none;\">\n",
              "\n",
              "<svg xmlns=\"http://www.w3.org/2000/svg\" height=\"24px\"viewBox=\"0 0 24 24\"\n",
              "     width=\"24px\">\n",
              "    <g>\n",
              "        <path d=\"M19 3H5c-1.1 0-2 .9-2 2v14c0 1.1.9 2 2 2h14c1.1 0 2-.9 2-2V5c0-1.1-.9-2-2-2zM9 17H7v-7h2v7zm4 0h-2V7h2v10zm4 0h-2v-4h2v4z\"/>\n",
              "    </g>\n",
              "</svg>\n",
              "  </button>\n",
              "\n",
              "<style>\n",
              "  .colab-df-quickchart {\n",
              "      --bg-color: #E8F0FE;\n",
              "      --fill-color: #1967D2;\n",
              "      --hover-bg-color: #E2EBFA;\n",
              "      --hover-fill-color: #174EA6;\n",
              "      --disabled-fill-color: #AAA;\n",
              "      --disabled-bg-color: #DDD;\n",
              "  }\n",
              "\n",
              "  [theme=dark] .colab-df-quickchart {\n",
              "      --bg-color: #3B4455;\n",
              "      --fill-color: #D2E3FC;\n",
              "      --hover-bg-color: #434B5C;\n",
              "      --hover-fill-color: #FFFFFF;\n",
              "      --disabled-bg-color: #3B4455;\n",
              "      --disabled-fill-color: #666;\n",
              "  }\n",
              "\n",
              "  .colab-df-quickchart {\n",
              "    background-color: var(--bg-color);\n",
              "    border: none;\n",
              "    border-radius: 50%;\n",
              "    cursor: pointer;\n",
              "    display: none;\n",
              "    fill: var(--fill-color);\n",
              "    height: 32px;\n",
              "    padding: 0;\n",
              "    width: 32px;\n",
              "  }\n",
              "\n",
              "  .colab-df-quickchart:hover {\n",
              "    background-color: var(--hover-bg-color);\n",
              "    box-shadow: 0 1px 2px rgba(60, 64, 67, 0.3), 0 1px 3px 1px rgba(60, 64, 67, 0.15);\n",
              "    fill: var(--button-hover-fill-color);\n",
              "  }\n",
              "\n",
              "  .colab-df-quickchart-complete:disabled,\n",
              "  .colab-df-quickchart-complete:disabled:hover {\n",
              "    background-color: var(--disabled-bg-color);\n",
              "    fill: var(--disabled-fill-color);\n",
              "    box-shadow: none;\n",
              "  }\n",
              "\n",
              "  .colab-df-spinner {\n",
              "    border: 2px solid var(--fill-color);\n",
              "    border-color: transparent;\n",
              "    border-bottom-color: var(--fill-color);\n",
              "    animation:\n",
              "      spin 1s steps(1) infinite;\n",
              "  }\n",
              "\n",
              "  @keyframes spin {\n",
              "    0% {\n",
              "      border-color: transparent;\n",
              "      border-bottom-color: var(--fill-color);\n",
              "      border-left-color: var(--fill-color);\n",
              "    }\n",
              "    20% {\n",
              "      border-color: transparent;\n",
              "      border-left-color: var(--fill-color);\n",
              "      border-top-color: var(--fill-color);\n",
              "    }\n",
              "    30% {\n",
              "      border-color: transparent;\n",
              "      border-left-color: var(--fill-color);\n",
              "      border-top-color: var(--fill-color);\n",
              "      border-right-color: var(--fill-color);\n",
              "    }\n",
              "    40% {\n",
              "      border-color: transparent;\n",
              "      border-right-color: var(--fill-color);\n",
              "      border-top-color: var(--fill-color);\n",
              "    }\n",
              "    60% {\n",
              "      border-color: transparent;\n",
              "      border-right-color: var(--fill-color);\n",
              "    }\n",
              "    80% {\n",
              "      border-color: transparent;\n",
              "      border-right-color: var(--fill-color);\n",
              "      border-bottom-color: var(--fill-color);\n",
              "    }\n",
              "    90% {\n",
              "      border-color: transparent;\n",
              "      border-bottom-color: var(--fill-color);\n",
              "    }\n",
              "  }\n",
              "</style>\n",
              "\n",
              "  <script>\n",
              "    async function quickchart(key) {\n",
              "      const quickchartButtonEl =\n",
              "        document.querySelector('#' + key + ' button');\n",
              "      quickchartButtonEl.disabled = true;  // To prevent multiple clicks.\n",
              "      quickchartButtonEl.classList.add('colab-df-spinner');\n",
              "      try {\n",
              "        const charts = await google.colab.kernel.invokeFunction(\n",
              "            'suggestCharts', [key], {});\n",
              "      } catch (error) {\n",
              "        console.error('Error during call to suggestCharts:', error);\n",
              "      }\n",
              "      quickchartButtonEl.classList.remove('colab-df-spinner');\n",
              "      quickchartButtonEl.classList.add('colab-df-quickchart-complete');\n",
              "    }\n",
              "    (() => {\n",
              "      let quickchartButtonEl =\n",
              "        document.querySelector('#df-218b9a14-3ee6-40c3-865f-e6eb0b71cafb button');\n",
              "      quickchartButtonEl.style.display =\n",
              "        google.colab.kernel.accessAllowed ? 'block' : 'none';\n",
              "    })();\n",
              "  </script>\n",
              "</div>\n",
              "    </div>\n",
              "  </div>\n"
            ]
          },
          "metadata": {},
          "execution_count": 9
        }
      ]
    },
    {
      "cell_type": "code",
      "source": [
        "print(len(val_y))\n",
        "val_y"
      ],
      "metadata": {
        "colab": {
          "base_uri": "https://localhost:8080/"
        },
        "id": "ZdC8vIbd99ad",
        "outputId": "57aab816-e702-448a-fcb6-396aacb416a3"
      },
      "id": "ZdC8vIbd99ad",
      "execution_count": 10,
      "outputs": [
        {
          "output_type": "stream",
          "name": "stdout",
          "text": [
            "3510\n"
          ]
        },
        {
          "output_type": "execute_result",
          "data": {
            "text/plain": [
              "array([0, 0, 0, ..., 1, 1, 1])"
            ]
          },
          "metadata": {},
          "execution_count": 10
        }
      ]
    },
    {
      "cell_type": "code",
      "source": [
        "arr_test_specs, df_test_mapping, test_y = load_ds_labels(\"test\")\n",
        "df_test_mapping"
      ],
      "metadata": {
        "colab": {
          "base_uri": "https://localhost:8080/",
          "height": 464
        },
        "id": "X5cdJnk564zp",
        "outputId": "6c584301-5384-4454-ed55-7b55a49f427d"
      },
      "id": "X5cdJnk564zp",
      "execution_count": 11,
      "outputs": [
        {
          "output_type": "stream",
          "name": "stdout",
          "text": [
            "(3870, 128, 300)\n"
          ]
        },
        {
          "output_type": "execute_result",
          "data": {
            "text/plain": [
              "      Array_Pos             Filename  Session Imp_Sob  y_label\n",
              "0             0  0151015001_h_00.wav  ses1015       I        0\n",
              "1             1  0151015002_h_00.wav  ses1015       I        0\n",
              "2             2  0151015003_h_00.wav  ses1015       I        0\n",
              "3             3  0151015004_h_00.wav  ses1015       I        0\n",
              "4             4  0151015005_h_00.wav  ses1015       I        0\n",
              "...         ...                  ...      ...     ...      ...\n",
              "3865       3865  5824078019_h_00.wav  ses4078       S        1\n",
              "3866       3866  5824078050_h_00.wav  ses4078       S        1\n",
              "3867       3867  5824078051_h_00.wav  ses4078       S        1\n",
              "3868       3868  5824078020_h_00.wav  ses4078       S        1\n",
              "3869       3869  5824078021_h_00.wav  ses4078       S        1\n",
              "\n",
              "[3870 rows x 5 columns]"
            ],
            "text/html": [
              "\n",
              "  <div id=\"df-90177282-388f-461b-8544-d90d1480ab5e\" class=\"colab-df-container\">\n",
              "    <div>\n",
              "<style scoped>\n",
              "    .dataframe tbody tr th:only-of-type {\n",
              "        vertical-align: middle;\n",
              "    }\n",
              "\n",
              "    .dataframe tbody tr th {\n",
              "        vertical-align: top;\n",
              "    }\n",
              "\n",
              "    .dataframe thead th {\n",
              "        text-align: right;\n",
              "    }\n",
              "</style>\n",
              "<table border=\"1\" class=\"dataframe\">\n",
              "  <thead>\n",
              "    <tr style=\"text-align: right;\">\n",
              "      <th></th>\n",
              "      <th>Array_Pos</th>\n",
              "      <th>Filename</th>\n",
              "      <th>Session</th>\n",
              "      <th>Imp_Sob</th>\n",
              "      <th>y_label</th>\n",
              "    </tr>\n",
              "  </thead>\n",
              "  <tbody>\n",
              "    <tr>\n",
              "      <th>0</th>\n",
              "      <td>0</td>\n",
              "      <td>0151015001_h_00.wav</td>\n",
              "      <td>ses1015</td>\n",
              "      <td>I</td>\n",
              "      <td>0</td>\n",
              "    </tr>\n",
              "    <tr>\n",
              "      <th>1</th>\n",
              "      <td>1</td>\n",
              "      <td>0151015002_h_00.wav</td>\n",
              "      <td>ses1015</td>\n",
              "      <td>I</td>\n",
              "      <td>0</td>\n",
              "    </tr>\n",
              "    <tr>\n",
              "      <th>2</th>\n",
              "      <td>2</td>\n",
              "      <td>0151015003_h_00.wav</td>\n",
              "      <td>ses1015</td>\n",
              "      <td>I</td>\n",
              "      <td>0</td>\n",
              "    </tr>\n",
              "    <tr>\n",
              "      <th>3</th>\n",
              "      <td>3</td>\n",
              "      <td>0151015004_h_00.wav</td>\n",
              "      <td>ses1015</td>\n",
              "      <td>I</td>\n",
              "      <td>0</td>\n",
              "    </tr>\n",
              "    <tr>\n",
              "      <th>4</th>\n",
              "      <td>4</td>\n",
              "      <td>0151015005_h_00.wav</td>\n",
              "      <td>ses1015</td>\n",
              "      <td>I</td>\n",
              "      <td>0</td>\n",
              "    </tr>\n",
              "    <tr>\n",
              "      <th>...</th>\n",
              "      <td>...</td>\n",
              "      <td>...</td>\n",
              "      <td>...</td>\n",
              "      <td>...</td>\n",
              "      <td>...</td>\n",
              "    </tr>\n",
              "    <tr>\n",
              "      <th>3865</th>\n",
              "      <td>3865</td>\n",
              "      <td>5824078019_h_00.wav</td>\n",
              "      <td>ses4078</td>\n",
              "      <td>S</td>\n",
              "      <td>1</td>\n",
              "    </tr>\n",
              "    <tr>\n",
              "      <th>3866</th>\n",
              "      <td>3866</td>\n",
              "      <td>5824078050_h_00.wav</td>\n",
              "      <td>ses4078</td>\n",
              "      <td>S</td>\n",
              "      <td>1</td>\n",
              "    </tr>\n",
              "    <tr>\n",
              "      <th>3867</th>\n",
              "      <td>3867</td>\n",
              "      <td>5824078051_h_00.wav</td>\n",
              "      <td>ses4078</td>\n",
              "      <td>S</td>\n",
              "      <td>1</td>\n",
              "    </tr>\n",
              "    <tr>\n",
              "      <th>3868</th>\n",
              "      <td>3868</td>\n",
              "      <td>5824078020_h_00.wav</td>\n",
              "      <td>ses4078</td>\n",
              "      <td>S</td>\n",
              "      <td>1</td>\n",
              "    </tr>\n",
              "    <tr>\n",
              "      <th>3869</th>\n",
              "      <td>3869</td>\n",
              "      <td>5824078021_h_00.wav</td>\n",
              "      <td>ses4078</td>\n",
              "      <td>S</td>\n",
              "      <td>1</td>\n",
              "    </tr>\n",
              "  </tbody>\n",
              "</table>\n",
              "<p>3870 rows × 5 columns</p>\n",
              "</div>\n",
              "    <div class=\"colab-df-buttons\">\n",
              "\n",
              "  <div class=\"colab-df-container\">\n",
              "    <button class=\"colab-df-convert\" onclick=\"convertToInteractive('df-90177282-388f-461b-8544-d90d1480ab5e')\"\n",
              "            title=\"Convert this dataframe to an interactive table.\"\n",
              "            style=\"display:none;\">\n",
              "\n",
              "  <svg xmlns=\"http://www.w3.org/2000/svg\" height=\"24px\" viewBox=\"0 -960 960 960\">\n",
              "    <path d=\"M120-120v-720h720v720H120Zm60-500h600v-160H180v160Zm220 220h160v-160H400v160Zm0 220h160v-160H400v160ZM180-400h160v-160H180v160Zm440 0h160v-160H620v160ZM180-180h160v-160H180v160Zm440 0h160v-160H620v160Z\"/>\n",
              "  </svg>\n",
              "    </button>\n",
              "\n",
              "  <style>\n",
              "    .colab-df-container {\n",
              "      display:flex;\n",
              "      gap: 12px;\n",
              "    }\n",
              "\n",
              "    .colab-df-convert {\n",
              "      background-color: #E8F0FE;\n",
              "      border: none;\n",
              "      border-radius: 50%;\n",
              "      cursor: pointer;\n",
              "      display: none;\n",
              "      fill: #1967D2;\n",
              "      height: 32px;\n",
              "      padding: 0 0 0 0;\n",
              "      width: 32px;\n",
              "    }\n",
              "\n",
              "    .colab-df-convert:hover {\n",
              "      background-color: #E2EBFA;\n",
              "      box-shadow: 0px 1px 2px rgba(60, 64, 67, 0.3), 0px 1px 3px 1px rgba(60, 64, 67, 0.15);\n",
              "      fill: #174EA6;\n",
              "    }\n",
              "\n",
              "    .colab-df-buttons div {\n",
              "      margin-bottom: 4px;\n",
              "    }\n",
              "\n",
              "    [theme=dark] .colab-df-convert {\n",
              "      background-color: #3B4455;\n",
              "      fill: #D2E3FC;\n",
              "    }\n",
              "\n",
              "    [theme=dark] .colab-df-convert:hover {\n",
              "      background-color: #434B5C;\n",
              "      box-shadow: 0px 1px 3px 1px rgba(0, 0, 0, 0.15);\n",
              "      filter: drop-shadow(0px 1px 2px rgba(0, 0, 0, 0.3));\n",
              "      fill: #FFFFFF;\n",
              "    }\n",
              "  </style>\n",
              "\n",
              "    <script>\n",
              "      const buttonEl =\n",
              "        document.querySelector('#df-90177282-388f-461b-8544-d90d1480ab5e button.colab-df-convert');\n",
              "      buttonEl.style.display =\n",
              "        google.colab.kernel.accessAllowed ? 'block' : 'none';\n",
              "\n",
              "      async function convertToInteractive(key) {\n",
              "        const element = document.querySelector('#df-90177282-388f-461b-8544-d90d1480ab5e');\n",
              "        const dataTable =\n",
              "          await google.colab.kernel.invokeFunction('convertToInteractive',\n",
              "                                                    [key], {});\n",
              "        if (!dataTable) return;\n",
              "\n",
              "        const docLinkHtml = 'Like what you see? Visit the ' +\n",
              "          '<a target=\"_blank\" href=https://colab.research.google.com/notebooks/data_table.ipynb>data table notebook</a>'\n",
              "          + ' to learn more about interactive tables.';\n",
              "        element.innerHTML = '';\n",
              "        dataTable['output_type'] = 'display_data';\n",
              "        await google.colab.output.renderOutput(dataTable, element);\n",
              "        const docLink = document.createElement('div');\n",
              "        docLink.innerHTML = docLinkHtml;\n",
              "        element.appendChild(docLink);\n",
              "      }\n",
              "    </script>\n",
              "  </div>\n",
              "\n",
              "\n",
              "<div id=\"df-d08fffe6-cd31-47c0-8867-f8a7fdf35c13\">\n",
              "  <button class=\"colab-df-quickchart\" onclick=\"quickchart('df-d08fffe6-cd31-47c0-8867-f8a7fdf35c13')\"\n",
              "            title=\"Suggest charts.\"\n",
              "            style=\"display:none;\">\n",
              "\n",
              "<svg xmlns=\"http://www.w3.org/2000/svg\" height=\"24px\"viewBox=\"0 0 24 24\"\n",
              "     width=\"24px\">\n",
              "    <g>\n",
              "        <path d=\"M19 3H5c-1.1 0-2 .9-2 2v14c0 1.1.9 2 2 2h14c1.1 0 2-.9 2-2V5c0-1.1-.9-2-2-2zM9 17H7v-7h2v7zm4 0h-2V7h2v10zm4 0h-2v-4h2v4z\"/>\n",
              "    </g>\n",
              "</svg>\n",
              "  </button>\n",
              "\n",
              "<style>\n",
              "  .colab-df-quickchart {\n",
              "      --bg-color: #E8F0FE;\n",
              "      --fill-color: #1967D2;\n",
              "      --hover-bg-color: #E2EBFA;\n",
              "      --hover-fill-color: #174EA6;\n",
              "      --disabled-fill-color: #AAA;\n",
              "      --disabled-bg-color: #DDD;\n",
              "  }\n",
              "\n",
              "  [theme=dark] .colab-df-quickchart {\n",
              "      --bg-color: #3B4455;\n",
              "      --fill-color: #D2E3FC;\n",
              "      --hover-bg-color: #434B5C;\n",
              "      --hover-fill-color: #FFFFFF;\n",
              "      --disabled-bg-color: #3B4455;\n",
              "      --disabled-fill-color: #666;\n",
              "  }\n",
              "\n",
              "  .colab-df-quickchart {\n",
              "    background-color: var(--bg-color);\n",
              "    border: none;\n",
              "    border-radius: 50%;\n",
              "    cursor: pointer;\n",
              "    display: none;\n",
              "    fill: var(--fill-color);\n",
              "    height: 32px;\n",
              "    padding: 0;\n",
              "    width: 32px;\n",
              "  }\n",
              "\n",
              "  .colab-df-quickchart:hover {\n",
              "    background-color: var(--hover-bg-color);\n",
              "    box-shadow: 0 1px 2px rgba(60, 64, 67, 0.3), 0 1px 3px 1px rgba(60, 64, 67, 0.15);\n",
              "    fill: var(--button-hover-fill-color);\n",
              "  }\n",
              "\n",
              "  .colab-df-quickchart-complete:disabled,\n",
              "  .colab-df-quickchart-complete:disabled:hover {\n",
              "    background-color: var(--disabled-bg-color);\n",
              "    fill: var(--disabled-fill-color);\n",
              "    box-shadow: none;\n",
              "  }\n",
              "\n",
              "  .colab-df-spinner {\n",
              "    border: 2px solid var(--fill-color);\n",
              "    border-color: transparent;\n",
              "    border-bottom-color: var(--fill-color);\n",
              "    animation:\n",
              "      spin 1s steps(1) infinite;\n",
              "  }\n",
              "\n",
              "  @keyframes spin {\n",
              "    0% {\n",
              "      border-color: transparent;\n",
              "      border-bottom-color: var(--fill-color);\n",
              "      border-left-color: var(--fill-color);\n",
              "    }\n",
              "    20% {\n",
              "      border-color: transparent;\n",
              "      border-left-color: var(--fill-color);\n",
              "      border-top-color: var(--fill-color);\n",
              "    }\n",
              "    30% {\n",
              "      border-color: transparent;\n",
              "      border-left-color: var(--fill-color);\n",
              "      border-top-color: var(--fill-color);\n",
              "      border-right-color: var(--fill-color);\n",
              "    }\n",
              "    40% {\n",
              "      border-color: transparent;\n",
              "      border-right-color: var(--fill-color);\n",
              "      border-top-color: var(--fill-color);\n",
              "    }\n",
              "    60% {\n",
              "      border-color: transparent;\n",
              "      border-right-color: var(--fill-color);\n",
              "    }\n",
              "    80% {\n",
              "      border-color: transparent;\n",
              "      border-right-color: var(--fill-color);\n",
              "      border-bottom-color: var(--fill-color);\n",
              "    }\n",
              "    90% {\n",
              "      border-color: transparent;\n",
              "      border-bottom-color: var(--fill-color);\n",
              "    }\n",
              "  }\n",
              "</style>\n",
              "\n",
              "  <script>\n",
              "    async function quickchart(key) {\n",
              "      const quickchartButtonEl =\n",
              "        document.querySelector('#' + key + ' button');\n",
              "      quickchartButtonEl.disabled = true;  // To prevent multiple clicks.\n",
              "      quickchartButtonEl.classList.add('colab-df-spinner');\n",
              "      try {\n",
              "        const charts = await google.colab.kernel.invokeFunction(\n",
              "            'suggestCharts', [key], {});\n",
              "      } catch (error) {\n",
              "        console.error('Error during call to suggestCharts:', error);\n",
              "      }\n",
              "      quickchartButtonEl.classList.remove('colab-df-spinner');\n",
              "      quickchartButtonEl.classList.add('colab-df-quickchart-complete');\n",
              "    }\n",
              "    (() => {\n",
              "      let quickchartButtonEl =\n",
              "        document.querySelector('#df-d08fffe6-cd31-47c0-8867-f8a7fdf35c13 button');\n",
              "      quickchartButtonEl.style.display =\n",
              "        google.colab.kernel.accessAllowed ? 'block' : 'none';\n",
              "    })();\n",
              "  </script>\n",
              "</div>\n",
              "    </div>\n",
              "  </div>\n"
            ]
          },
          "metadata": {},
          "execution_count": 11
        }
      ]
    },
    {
      "cell_type": "code",
      "source": [
        "print(len(test_y))\n",
        "test_y"
      ],
      "metadata": {
        "colab": {
          "base_uri": "https://localhost:8080/"
        },
        "id": "89NLhdiA-NMy",
        "outputId": "ee282e28-c47b-4d5e-c21c-37b88c4c722c"
      },
      "id": "89NLhdiA-NMy",
      "execution_count": 12,
      "outputs": [
        {
          "output_type": "stream",
          "name": "stdout",
          "text": [
            "3870\n"
          ]
        },
        {
          "output_type": "execute_result",
          "data": {
            "text/plain": [
              "array([0, 0, 0, ..., 1, 1, 1])"
            ]
          },
          "metadata": {},
          "execution_count": 12
        }
      ]
    },
    {
      "cell_type": "code",
      "execution_count": 13,
      "id": "0f2a558a",
      "metadata": {
        "id": "0f2a558a",
        "outputId": "3a46d2b9-18c9-4dcf-f16c-cad3eade95df",
        "colab": {
          "base_uri": "https://localhost:8080/"
        }
      },
      "outputs": [
        {
          "output_type": "execute_result",
          "data": {
            "text/plain": [
              "(4650, 1, 128, 300)"
            ]
          },
          "metadata": {},
          "execution_count": 13
        }
      ],
      "source": [
        "# Trialing data transform function\n",
        "fnc_reshape = lambda x: x.reshape(x.shape[0], 1 , x.shape[1], x.shape[2])\n",
        "reshaped_X_train = fnc_reshape(arr_train_specs)\n",
        "reshaped_X_train.shape"
      ]
    },
    {
      "cell_type": "markdown",
      "id": "c8a21dd5",
      "metadata": {
        "id": "c8a21dd5"
      },
      "source": [
        "### Defining DataLoader Class with Weighted Random Sampler to account for Class Imbalance"
      ]
    },
    {
      "cell_type": "code",
      "source": [
        "from torch.utils.data import Dataset\n",
        "\n",
        "class Audio_DS(Dataset):\n",
        "    def __init__(self, data, labels, device = \"cuda\", transform=lambda x: x.reshape(x.shape[0], 1, x.shape[1], x.shape[2])):\n",
        "        # Initialize dataset here\n",
        "        self.transform = transform # Dataset Transformation\n",
        "        self.data = self.transform(data) # Loading in reshaped numpy dataset\n",
        "        self.labels = labels\n",
        "        self.device = device\n",
        "\n",
        "    def __len__(self):\n",
        "      return len(self.data)\n",
        "\n",
        "    def __getitem__(self, idx):\n",
        "      sample = self.data[idx]\n",
        "      label = self.labels[idx]\n",
        "\n",
        "      # Memory Efficient way of storing tensors to GPU and assigning dtype\n",
        "      sample = torch.tensor(sample, dtype=torch.float).to(self.device)\n",
        "      label = torch.tensor(label, dtype=torch.int64).to(self.device)\n",
        "\n",
        "      return sample, label"
      ],
      "metadata": {
        "id": "Jrh0QaoJrsye"
      },
      "id": "Jrh0QaoJrsye",
      "execution_count": 14,
      "outputs": []
    },
    {
      "cell_type": "markdown",
      "source": [
        "### Model Definition"
      ],
      "metadata": {
        "id": "sczM5Xaw4v1m"
      },
      "id": "sczM5Xaw4v1m"
    },
    {
      "cell_type": "code",
      "source": [
        "import torch\n",
        "from torch import nn\n",
        "class CNN(nn.Module):\n",
        "    def __init__(self):\n",
        "        super(CNN, self).__init__()\n",
        "        self.conv = nn.ModuleList([nn.Conv2d(in_channels= 1, out_channels= 5,kernel_size = 4, stride = 1, padding= 2),\n",
        "                                   nn.Conv2d(in_channels= 5, out_channels= 7,kernel_size = 3, stride = 1, padding= 1)])\n",
        "        self.bn = nn.ModuleList([nn.BatchNorm2d(5), nn.BatchNorm2d(7)])\n",
        "        self.fc = nn.ModuleList([nn.Linear(1008, 504), nn.Linear(504, 2)])\n",
        "        self.pooling = nn.AvgPool2d(kernel_size = 4)\n",
        "        self.activation = nn.ReLU()\n",
        "\n",
        "    def forward(self, x):\n",
        "        for i in range(len(self.conv)):\n",
        "            x = self.pooling(self.activation(self.bn[i](self.conv[i](x))))\n",
        "        x = nn.Flatten() (x)\n",
        "        for i in range(len(self.fc)):\n",
        "          x = self.fc[i](x)\n",
        "        return x"
      ],
      "metadata": {
        "id": "cowUwZfM4FXP"
      },
      "id": "cowUwZfM4FXP",
      "execution_count": 15,
      "outputs": []
    },
    {
      "cell_type": "code",
      "source": [
        "from torchsummary import summary\n",
        "# Specify the device (CPU or GPU)\n",
        "device = torch.device(\"cuda\" if torch.cuda.is_available() else \"cpu\")\n",
        "print(device)\n",
        "model = CNN().to(device)\n",
        "\n",
        "# Input is the (number of channels, image height, image width) if input is 2d, essentially the 2 dimensions of it\n",
        "s = summary(model, (1,128,300))"
      ],
      "metadata": {
        "colab": {
          "base_uri": "https://localhost:8080/"
        },
        "id": "04cv9o214OOM",
        "outputId": "da0ca304-d1a6-4300-86da-fd06e4a796dc"
      },
      "id": "04cv9o214OOM",
      "execution_count": 16,
      "outputs": [
        {
          "output_type": "stream",
          "name": "stdout",
          "text": [
            "cuda\n",
            "----------------------------------------------------------------\n",
            "        Layer (type)               Output Shape         Param #\n",
            "================================================================\n",
            "            Conv2d-1          [-1, 5, 129, 301]              85\n",
            "       BatchNorm2d-2          [-1, 5, 129, 301]              10\n",
            "              ReLU-3          [-1, 5, 129, 301]               0\n",
            "         AvgPool2d-4            [-1, 5, 32, 75]               0\n",
            "            Conv2d-5            [-1, 7, 32, 75]             322\n",
            "       BatchNorm2d-6            [-1, 7, 32, 75]              14\n",
            "              ReLU-7            [-1, 7, 32, 75]               0\n",
            "         AvgPool2d-8             [-1, 7, 8, 18]               0\n",
            "            Linear-9                  [-1, 504]         508,536\n",
            "           Linear-10                    [-1, 2]           1,010\n",
            "================================================================\n",
            "Total params: 509,977\n",
            "Trainable params: 509,977\n",
            "Non-trainable params: 0\n",
            "----------------------------------------------------------------\n",
            "Input size (MB): 0.15\n",
            "Forward/backward pass size (MB): 4.93\n",
            "Params size (MB): 1.95\n",
            "Estimated Total Size (MB): 7.02\n",
            "----------------------------------------------------------------\n"
          ]
        }
      ]
    },
    {
      "cell_type": "code",
      "source": [
        "from torch.utils.tensorboard import SummaryWriter\n",
        "cnn_logger = SummaryWriter(log_dir = 'CNN_Audio_Balanced')"
      ],
      "metadata": {
        "id": "SMJE8wMw4aht"
      },
      "id": "SMJE8wMw4aht",
      "execution_count": 17,
      "outputs": []
    },
    {
      "cell_type": "markdown",
      "source": [
        "### **Class for Training, Validation, & Testing Network**"
      ],
      "metadata": {
        "id": "vjVx-3ZtdTyN"
      },
      "id": "vjVx-3ZtdTyN"
    },
    {
      "cell_type": "code",
      "source": [
        "# Defining function for timing model training\n",
        "from functools import wraps\n",
        "from time import time\n",
        "\n",
        "def timing(f):\n",
        "    @wraps(f)\n",
        "    def wrap(*args, **kw):\n",
        "        ts = time()\n",
        "        result = f(*args, **kw)\n",
        "        te = time()\n",
        "        print('func:%r  took: %2.4f sec' % (f.__name__,  te-ts))\n",
        "        return result\n",
        "    return wrap"
      ],
      "metadata": {
        "id": "bdyidHHIBHtG"
      },
      "id": "bdyidHHIBHtG",
      "execution_count": 18,
      "outputs": []
    },
    {
      "cell_type": "code",
      "source": [
        "import torch\n",
        "from torch.optim import Adam\n",
        "import torchmetrics\n",
        "from torchmetrics.classification import BinaryF1Score\n",
        "from torch.utils.data import DataLoader, WeightedRandomSampler\n",
        "class Trainer():\n",
        "  def __init__(self, model, epochs, learning_rate, batch_size, device = \"cuda\", optimizer_type = \"Adam\"):\n",
        "    self.model = model.to(device)\n",
        "    self.epochs = epochs\n",
        "    self.learning_rate = learning_rate\n",
        "    self.batch_size = batch_size\n",
        "    self.device = device\n",
        "    if optimizer_type == \"Adam\":\n",
        "      self.optimizer = Adam(model.parameters(), learning_rate)\n",
        "    self.f1 = BinaryF1Score().to(device)\n",
        "\n",
        "  @timing\n",
        "  def train(self, train_ds, val_ds, sampler, early_stop = True, L2 = True, tens_logger = None, L2_reg = 1e-5):\n",
        "\n",
        "    # Initialize lists to store metrics, initial weights of model, way to record val_loss to do early stopping,\n",
        "\n",
        "    losses = []\n",
        "    accs = []\n",
        "    f1s = []\n",
        "    val_losses = []\n",
        "    val_accs = []\n",
        "    val_f1s = []\n",
        "    weights = self.model.state_dict()\n",
        "    lowest_val_loss = np.inf\n",
        "\n",
        "    # Loading in the train dataset\n",
        "    train_dataloader = DataLoader(train_ds, self.batch_size, sampler = sampler)\n",
        "\n",
        "    for n_epoch in range(self.epochs):\n",
        "      # Initializing the metrics for each epoch to be 0\n",
        "      epoch_loss = 0\n",
        "      epoch_acc = 0\n",
        "      epoch_f1 = 0\n",
        "      for batch, acc_labels in train_dataloader:\n",
        "        prop_ds = len(batch) / len(train_ds) # Track proportion of dataset used in batch for scaling metrics per batch size\n",
        "        self.optimizer.zero_grad()       # Setting gradients to 0 prior to backpropagating loss\n",
        "        batch_logits = self.model(batch) # Generate logits for batch\n",
        "        loss = nn.CrossEntropyLoss() (batch_logits, acc_labels)\n",
        "        if L2:\n",
        "          loss = loss + L2_reg * sum([(wei ** 2).sum() for wei in self.model.parameters()])\n",
        "        loss.backward()\n",
        "        self.optimizer.step()\n",
        "        batch_preds = torch.argmax(batch_logits, axis = -1)\n",
        "\n",
        "        # Compute Metrics for each batch and store as running sum for each epoch\n",
        "        epoch_loss += loss.detach().item() * prop_ds\n",
        "        acc = sum(batch_preds == acc_labels) / len(acc_labels)\n",
        "        epoch_acc += acc.detach().item() * prop_ds\n",
        "        batch_f1 = self.f1(torch.argmax(batch_logits, axis = -1), acc_labels).detach().item()\n",
        "        epoch_f1 += batch_f1 * prop_ds\n",
        "\n",
        "      # Run Validation call for each epoch\n",
        "      val_loss, val_acc, val_f1 = self.evaluate(val_ds)\n",
        "\n",
        "      # Add each epoch metric to list\n",
        "      losses.append(epoch_loss)\n",
        "      accs.append(epoch_acc)\n",
        "      f1s.append(epoch_f1)\n",
        "      val_losses.append(val_loss)\n",
        "      val_accs.append(val_acc)\n",
        "      val_f1s.append(val_f1)\n",
        "\n",
        "      # Print Results for Each Epoch\n",
        "      print(\"Epoch %d/%d - Loss: %.3f - Train_Acc: %.3f - Train_F1: %.3f\" % (n_epoch + 1, self.epochs, epoch_loss, epoch_acc, epoch_f1))\n",
        "      print(\"              Val_loss: %.3f - Val_Acc: %.3f - Val_F1: %.3f\" % (val_loss, val_acc, val_f1))\n",
        "\n",
        "      # Early Stop Check for Each Epoch\n",
        "      if early_stop:\n",
        "        if val_loss < lowest_val_loss:\n",
        "          lowest_val_loss = val_loss\n",
        "          weights = self.model.state_dict()\n",
        "      # Tensorboard Metric Tracking\n",
        "      if tens_logger is not None:\n",
        "                tens_logger.add_scalar(\"Train Loss\", epoch_loss, n_epoch + 1)\n",
        "                tens_logger.add_scalar(\"Train Accuracy\", epoch_acc, n_epoch + 1)\n",
        "                tens_logger.add_scalar(\"Train F1\", epoch_f1, n_epoch + 1)\n",
        "                tens_logger.add_scalar(\"Val Loss\", val_loss, n_epoch + 1)\n",
        "                tens_logger.add_scalar(\"Val Acc\", val_acc, n_epoch + 1)\n",
        "                tens_logger.add_scalar(\"Val F1\", val_f1, n_epoch + 1)\n",
        "    # After all epochs\n",
        "    if early_stop:\n",
        "      self.model.load_state_dict(weights)\n",
        "    return {\"model\": self.model, \"train_accs\" : accs, \"train_losses\" : losses,\"train_f1s\" : f1s,\n",
        "            \"val_accs\" : val_accs, \"val_losses\" : val_losses, \"val_f1s\" : val_f1s}\n",
        "\n",
        "  def evaluate(self, val_dset, val = True):\n",
        "    # Initialize metrics & dataloader for validation dataset\n",
        "    ep_loss = 0\n",
        "    ep_acc = 0\n",
        "    ep_f1 = 0\n",
        "    all_preds = []\n",
        "    all_labels = []\n",
        "    val_data_loader = DataLoader(val_dset, self.batch_size, shuffle = True)\n",
        "    for batch, acc_labels in val_data_loader:\n",
        "      prop_ds = len(batch) / len(val_dset)\n",
        "      with torch.no_grad():\n",
        "        batch_logits = self.model(batch)\n",
        "        loss = nn.CrossEntropyLoss()(batch_logits, acc_labels)\n",
        "        batch_preds = torch.argmax(batch_logits, axis = -1)\n",
        "      # Update Epoch Metrics for each batch\n",
        "      ep_loss += loss.detach().item() * prop_ds\n",
        "      acc = torch.sum(batch_preds == acc_labels) / len(acc_labels)\n",
        "      ep_acc += acc.detach().item() * prop_ds\n",
        "      batch_f1 = self.f1(torch.argmax(batch_logits, axis = -1), acc_labels).detach().item()\n",
        "      ep_f1 += batch_f1 * prop_ds\n",
        "      if val == False:\n",
        "        all_preds.extend(batch_preds.tolist())\n",
        "        all_labels.extend(acc_labels.tolist())\n",
        "   # After entire epoch, depending on this is a validation run or testing dataset run\n",
        "    if val == False:\n",
        "      print(\"Test Accuracy: %.3f\" % ep_acc)\n",
        "      print(\"Test F1: %.3f\" % ep_f1)\n",
        "      return all_preds, all_labels\n",
        "\n",
        "    return ep_loss, ep_acc, ep_f1\n"
      ],
      "metadata": {
        "id": "Hkyog9yqdBPS"
      },
      "id": "Hkyog9yqdBPS",
      "execution_count": 24,
      "outputs": []
    },
    {
      "cell_type": "code",
      "source": [
        "# Instantiating Dataset classes for Single Sample: Train & Val\n",
        "train_ds = Audio_DS(arr_train_specs, train_y, device= \"cuda\")\n",
        "val_ds = Audio_DS(arr_val_specs, val_y, device = \"cuda\")"
      ],
      "metadata": {
        "id": "BKH_NMmNvMu-"
      },
      "id": "BKH_NMmNvMu-",
      "execution_count": 20,
      "outputs": []
    },
    {
      "cell_type": "code",
      "source": [
        "from torch.utils.data import WeightedRandomSampler\n",
        "# Calculating sample weights based on inverse class frequencies\n",
        "counts_series = df_train_mapping['Imp_Sob'].value_counts()\n",
        "class_counts = counts_series.values  # Replace with actual class frequencies\n",
        "sample_weights = [1 / counts_series.loc[class_val] for class_val in df_train_mapping['Imp_Sob']]\n",
        "\n",
        "# Instantiating WeightedRandomSampler\n",
        "sampler = WeightedRandomSampler(sample_weights, num_samples=len(train_ds), replacement=True)"
      ],
      "metadata": {
        "id": "tACACQVvvyYz"
      },
      "id": "tACACQVvvyYz",
      "execution_count": 22,
      "outputs": []
    },
    {
      "cell_type": "code",
      "source": [
        "num_eps = 27\n",
        "lr = 1e-3\n",
        "batch_sz = 32\n",
        "cnn = CNN()\n",
        "mlp_trainer = Trainer(cnn, num_eps, lr, batch_sz, device = \"cuda\", optimizer_type= \"Adam\")\n",
        "train_val_dict = mlp_trainer.train(train_ds, val_ds, sampler, early_stop = True, L2 = True,\n",
        "                                   tens_logger= cnn_logger)"
      ],
      "metadata": {
        "colab": {
          "base_uri": "https://localhost:8080/"
        },
        "id": "FuZmpd-Luc4D",
        "outputId": "53babcc0-4ab4-4656-d388-559ef8bd49d5"
      },
      "id": "FuZmpd-Luc4D",
      "execution_count": 27,
      "outputs": [
        {
          "output_type": "stream",
          "name": "stdout",
          "text": [
            "Epoch 1/27 - Loss: 0.732 - Train_Acc: 0.559 - Train_F1: 0.496\n",
            "              Val_loss: 0.728 - Val_Acc: 0.502 - Val_F1: 0.559\n",
            "Epoch 2/27 - Loss: 0.665 - Train_Acc: 0.599 - Train_F1: 0.549\n",
            "              Val_loss: 0.562 - Val_Acc: 0.748 - Val_F1: 0.849\n",
            "Epoch 3/27 - Loss: 0.650 - Train_Acc: 0.612 - Train_F1: 0.566\n",
            "              Val_loss: 0.657 - Val_Acc: 0.619 - Val_F1: 0.716\n",
            "Epoch 4/27 - Loss: 0.633 - Train_Acc: 0.643 - Train_F1: 0.626\n",
            "              Val_loss: 0.722 - Val_Acc: 0.547 - Val_F1: 0.626\n",
            "Epoch 5/27 - Loss: 0.605 - Train_Acc: 0.668 - Train_F1: 0.657\n",
            "              Val_loss: 0.719 - Val_Acc: 0.576 - Val_F1: 0.663\n",
            "Epoch 6/27 - Loss: 0.604 - Train_Acc: 0.672 - Train_F1: 0.666\n",
            "              Val_loss: 0.591 - Val_Acc: 0.700 - Val_F1: 0.802\n",
            "Epoch 7/27 - Loss: 0.587 - Train_Acc: 0.689 - Train_F1: 0.682\n",
            "              Val_loss: 0.582 - Val_Acc: 0.736 - Val_F1: 0.837\n",
            "Epoch 8/27 - Loss: 0.575 - Train_Acc: 0.703 - Train_F1: 0.692\n",
            "              Val_loss: 0.760 - Val_Acc: 0.531 - Val_F1: 0.604\n",
            "Epoch 9/27 - Loss: 0.540 - Train_Acc: 0.723 - Train_F1: 0.720\n",
            "              Val_loss: 0.678 - Val_Acc: 0.635 - Val_F1: 0.731\n",
            "Epoch 10/27 - Loss: 0.562 - Train_Acc: 0.715 - Train_F1: 0.695\n",
            "              Val_loss: 0.610 - Val_Acc: 0.746 - Val_F1: 0.847\n",
            "Epoch 11/27 - Loss: 0.542 - Train_Acc: 0.729 - Train_F1: 0.716\n",
            "              Val_loss: 0.647 - Val_Acc: 0.687 - Val_F1: 0.785\n",
            "Epoch 12/27 - Loss: 0.524 - Train_Acc: 0.738 - Train_F1: 0.730\n",
            "              Val_loss: 0.790 - Val_Acc: 0.584 - Val_F1: 0.668\n",
            "Epoch 13/27 - Loss: 0.513 - Train_Acc: 0.749 - Train_F1: 0.734\n",
            "              Val_loss: 0.725 - Val_Acc: 0.635 - Val_F1: 0.732\n",
            "Epoch 14/27 - Loss: 0.509 - Train_Acc: 0.762 - Train_F1: 0.736\n",
            "              Val_loss: 0.696 - Val_Acc: 0.632 - Val_F1: 0.727\n",
            "Epoch 15/27 - Loss: 0.490 - Train_Acc: 0.774 - Train_F1: 0.768\n",
            "              Val_loss: 0.773 - Val_Acc: 0.598 - Val_F1: 0.684\n",
            "Epoch 16/27 - Loss: 0.498 - Train_Acc: 0.765 - Train_F1: 0.756\n",
            "              Val_loss: 0.635 - Val_Acc: 0.721 - Val_F1: 0.817\n",
            "Epoch 17/27 - Loss: 0.479 - Train_Acc: 0.778 - Train_F1: 0.765\n",
            "              Val_loss: 0.797 - Val_Acc: 0.590 - Val_F1: 0.675\n",
            "Epoch 18/27 - Loss: 0.484 - Train_Acc: 0.773 - Train_F1: 0.760\n",
            "              Val_loss: 0.699 - Val_Acc: 0.651 - Val_F1: 0.741\n",
            "Epoch 19/27 - Loss: 0.463 - Train_Acc: 0.787 - Train_F1: 0.778\n",
            "              Val_loss: 0.698 - Val_Acc: 0.684 - Val_F1: 0.782\n",
            "Epoch 20/27 - Loss: 0.472 - Train_Acc: 0.784 - Train_F1: 0.778\n",
            "              Val_loss: 0.691 - Val_Acc: 0.680 - Val_F1: 0.781\n",
            "Epoch 21/27 - Loss: 0.472 - Train_Acc: 0.783 - Train_F1: 0.781\n",
            "              Val_loss: 0.640 - Val_Acc: 0.700 - Val_F1: 0.800\n",
            "Epoch 22/27 - Loss: 0.468 - Train_Acc: 0.780 - Train_F1: 0.770\n",
            "              Val_loss: 0.694 - Val_Acc: 0.653 - Val_F1: 0.750\n",
            "Epoch 23/27 - Loss: 0.445 - Train_Acc: 0.797 - Train_F1: 0.778\n",
            "              Val_loss: 0.806 - Val_Acc: 0.609 - Val_F1: 0.699\n",
            "Epoch 24/27 - Loss: 0.450 - Train_Acc: 0.797 - Train_F1: 0.789\n",
            "              Val_loss: 0.790 - Val_Acc: 0.618 - Val_F1: 0.712\n",
            "Epoch 25/27 - Loss: 0.447 - Train_Acc: 0.796 - Train_F1: 0.790\n",
            "              Val_loss: 0.716 - Val_Acc: 0.686 - Val_F1: 0.787\n",
            "Epoch 26/27 - Loss: 0.423 - Train_Acc: 0.811 - Train_F1: 0.805\n",
            "              Val_loss: 0.706 - Val_Acc: 0.712 - Val_F1: 0.812\n",
            "Epoch 27/27 - Loss: 0.446 - Train_Acc: 0.805 - Train_F1: 0.789\n",
            "              Val_loss: 0.713 - Val_Acc: 0.701 - Val_F1: 0.804\n",
            "func:'train'  took: 81.0729 sec\n"
          ]
        }
      ]
    },
    {
      "cell_type": "markdown",
      "source": [
        "### **Model Performance on Train & Validation Sets**"
      ],
      "metadata": {
        "id": "2lgDbTSZAnzj"
      },
      "id": "2lgDbTSZAnzj"
    },
    {
      "cell_type": "code",
      "source": [
        "fig, axs = plt.subplots(1, 2, figsize=(14, 6))\n",
        "\n",
        "# Plotting Training Res on Left\n",
        "axs[0].plot(range(1, num_eps + 1), train_val_dict['train_losses'])\n",
        "axs[0].set_xlabel('Epochs')\n",
        "axs[0].set_ylabel(\"Training Loss\")\n",
        "axs[0].set_title(\"Training Loss over Epochs\");\n",
        "axs[0].set\n",
        "# Plotting Validation Res on Right\n",
        "axs[1].plot(range(1, num_eps + 1), train_val_dict['val_losses'])\n",
        "axs[1].set_xlabel('Epochs')\n",
        "axs[1].set_ylabel(\"Validation Loss\")\n",
        "axs[1].set_title(\"Validation Loss over Epochs\");\n",
        "fig.tight_layout(pad = 2);"
      ],
      "metadata": {
        "colab": {
          "base_uri": "https://localhost:8080/",
          "height": 601
        },
        "id": "3__2A7rzNXll",
        "outputId": "79138eba-f5b9-49b6-c1c2-74aefd3d8c04"
      },
      "id": "3__2A7rzNXll",
      "execution_count": 53,
      "outputs": [
        {
          "output_type": "display_data",
          "data": {
            "text/plain": [
              "<Figure size 1400x600 with 2 Axes>"
            ],
            "image/png": "[encoded data removed]"
          },
          "metadata": {}
        }
      ]
    },
    {
      "cell_type": "code",
      "source": [
        "fig, axs = plt.subplots(1, 2, figsize=(14, 6)) # (width, height)\n",
        "\n",
        "# Plotting Training Res on Left\n",
        "axs[0].plot(range(1, num_eps + 1), train_val_dict['train_accs'])\n",
        "axs[0].set_xlabel('Epochs')\n",
        "axs[0].set_ylabel(\"Training Accuracy\")\n",
        "axs[0].set_title(\"Training Accuracy over Epochs\");\n",
        "axs[0].set\n",
        "# Plotting Validation Res on Right\n",
        "axs[1].plot(range(1, num_eps + 1), train_val_dict['val_accs'])\n",
        "axs[1].set_xlabel('Epochs')\n",
        "axs[1].set_ylabel(\"Validation Accuracy\")\n",
        "axs[1].set_title(\"Validation Accuracy over Epochs\");\n",
        "fig.tight_layout(pad = 2); # Spacing between subplots"
      ],
      "metadata": {
        "colab": {
          "base_uri": "https://localhost:8080/",
          "height": 601
        },
        "id": "pLclvecmWuw7",
        "outputId": "c871b62f-2b78-4f12-9862-4688f6acb7e8"
      },
      "id": "pLclvecmWuw7",
      "execution_count": 54,
      "outputs": [
        {
          "output_type": "display_data",
          "data": {
            "text/plain": [
              "<Figure size 1400x600 with 2 Axes>"
            ],
            "image/png": "[encoded data removed]"
          },
          "metadata": {}
        }
      ]
    },
    {
      "cell_type": "code",
      "source": [
        "fig, axs = plt.subplots(1, 2, figsize=(14, 6)) # (width, height)\n",
        "\n",
        "# Plotting Training Res on Left\n",
        "axs[0].plot(range(1, num_eps + 1), train_val_dict['train_f1s'])\n",
        "axs[0].set_xlabel('Epochs')\n",
        "axs[0].set_ylabel(\"Training F1\")\n",
        "axs[0].set_title(\"Training F1 over Epochs\");\n",
        "axs[0].set\n",
        "# Plotting Validation Res on Right\n",
        "axs[1].plot(range(1, num_eps + 1), train_val_dict['val_f1s'])\n",
        "axs[1].set_xlabel('Epochs')\n",
        "axs[1].set_ylabel(\"Validation F1\")\n",
        "axs[1].set_title(\"Validation F1 over Epochs\");\n",
        "fig.tight_layout(pad = 2);"
      ],
      "metadata": {
        "colab": {
          "base_uri": "https://localhost:8080/",
          "height": 601
        },
        "id": "XGOlnqqJXdLx",
        "outputId": "0feb00f5-b988-4fd8-c880-c7df9c34c588"
      },
      "id": "XGOlnqqJXdLx",
      "execution_count": 55,
      "outputs": [
        {
          "output_type": "display_data",
          "data": {
            "text/plain": [
              "<Figure size 1400x600 with 2 Axes>"
            ],
            "image/png": "[encoded data removed]"
          },
          "metadata": {}
        }
      ]
    },
    {
      "cell_type": "code",
      "source": [
        "plt.plot(range(1, num_eps + 1), train_val_dict['train_losses'], label = \"Training Loss\")\n",
        "plt.plot(range(1, num_eps + 1), train_val_dict['val_losses'], label = 'Validation Loss')\n",
        "plt.xlabel('Epochs')\n",
        "plt.ylabel(\"Loss\")\n",
        "plt.legend()\n",
        "plt.title(\"Loss over Epochs\");"
      ],
      "metadata": {
        "colab": {
          "base_uri": "https://localhost:8080/",
          "height": 492
        },
        "id": "q0s3J5LJXzwq",
        "outputId": "229860d2-1911-4b16-f4a5-77f7eba8286d"
      },
      "id": "q0s3J5LJXzwq",
      "execution_count": 51,
      "outputs": [
        {
          "output_type": "display_data",
          "data": {
            "text/plain": [
              "<Figure size 640x480 with 1 Axes>"
            ],
            "image/png": "[encoded data removed]"
          },
          "metadata": {}
        }
      ]
    },
    {
      "cell_type": "code",
      "source": [
        "plt.plot(range(1, num_eps + 1), train_val_dict['train_accs'], label = \"Training Accuracy\")\n",
        "plt.plot(range(1, num_eps + 1), train_val_dict['val_accs'], label = 'Validation Accuracy')\n",
        "plt.xlabel('Epochs')\n",
        "plt.ylabel(\"Accuracy\")\n",
        "plt.legend()\n",
        "plt.title(\"Accuracy over Epochs\");"
      ],
      "metadata": {
        "colab": {
          "base_uri": "https://localhost:8080/",
          "height": 492
        },
        "id": "U7KALlIrYS8z",
        "outputId": "91173be6-32ab-492a-cbc3-ef130a2ef67b"
      },
      "id": "U7KALlIrYS8z",
      "execution_count": 52,
      "outputs": [
        {
          "output_type": "display_data",
          "data": {
            "text/plain": [
              "<Figure size 640x480 with 1 Axes>"
            ],
            "image/png": "[encoded data removed]"
          },
          "metadata": {}
        }
      ]
    },
    {
      "cell_type": "code",
      "source": [
        "# Validation Accuracy if only assigning Sober Class is 75% and only hovering at that point\n",
        "# Network is not really learning anything\n",
        "df_val_mapping['Imp_Sob'].value_counts() / df_val_mapping.shape[0]"
      ],
      "metadata": {
        "colab": {
          "base_uri": "https://localhost:8080/"
        },
        "id": "A14s1IQTWbf6",
        "outputId": "b4ac95fd-2be0-46da-fb94-6b9661f70694"
      },
      "id": "A14s1IQTWbf6",
      "execution_count": null,
      "outputs": [
        {
          "output_type": "execute_result",
          "data": {
            "text/plain": [
              "S    0.752137\n",
              "I    0.247863\n",
              "Name: Imp_Sob, dtype: float64"
            ]
          },
          "metadata": {},
          "execution_count": 121
        }
      ]
    },
    {
      "cell_type": "code",
      "source": [
        "# Seems like the model is overtraining on the training dataset, but not having any generalizable aspects for validation dataset\n",
        "# Train accuracy starts off just guessing Sober and seems to overtrain on itself over time\n",
        "df_train_mapping['Imp_Sob'].value_counts() / df_train_mapping.shape[0]"
      ],
      "metadata": {
        "colab": {
          "base_uri": "https://localhost:8080/"
        },
        "id": "_XTxz3I6Y-gd",
        "outputId": "c145028e-29c2-4066-94fb-3cc875145f79"
      },
      "id": "_XTxz3I6Y-gd",
      "execution_count": null,
      "outputs": [
        {
          "output_type": "execute_result",
          "data": {
            "text/plain": [
              "S    0.774194\n",
              "I    0.225806\n",
              "Name: Imp_Sob, dtype: float64"
            ]
          },
          "metadata": {},
          "execution_count": 122
        }
      ]
    },
    {
      "cell_type": "markdown",
      "id": "079ef749",
      "metadata": {
        "id": "079ef749"
      },
      "source": [
        "### Model Training via Cross Validation:"
      ]
    },
    {
      "cell_type": "code",
      "execution_count": null,
      "id": "fad300dd",
      "metadata": {
        "id": "fad300dd",
        "outputId": "acc267b8-b896-4344-af95-8b83f49264ee"
      },
      "outputs": [
        {
          "data": {
            "text/html": [
              "<div>\n",
              "<style scoped>\n",
              "    .dataframe tbody tr th:only-of-type {\n",
              "        vertical-align: middle;\n",
              "    }\n",
              "\n",
              "    .dataframe tbody tr th {\n",
              "        vertical-align: top;\n",
              "    }\n",
              "\n",
              "    .dataframe thead th {\n",
              "        text-align: right;\n",
              "    }\n",
              "</style>\n",
              "<table border=\"1\" class=\"dataframe\">\n",
              "  <thead>\n",
              "    <tr style=\"text-align: right;\">\n",
              "      <th></th>\n",
              "      <th>epochs</th>\n",
              "      <th>batch_size</th>\n",
              "      <th>LR</th>\n",
              "      <th>avg_train_acc</th>\n",
              "      <th>avg_val_acc</th>\n",
              "      <th>L2</th>\n",
              "      <th>num_layers</th>\n",
              "      <th>num_filters</th>\n",
              "      <th>kernel_sizes</th>\n",
              "    </tr>\n",
              "  </thead>\n",
              "  <tbody>\n",
              "    <tr>\n",
              "      <th>0</th>\n",
              "      <td>27</td>\n",
              "      <td>16</td>\n",
              "      <td>0.001</td>\n",
              "      <td>0.981705</td>\n",
              "      <td>0.841562</td>\n",
              "      <td>True</td>\n",
              "      <td>2</td>\n",
              "      <td>7 &amp; 12</td>\n",
              "      <td>5 &amp; 3</td>\n",
              "    </tr>\n",
              "    <tr>\n",
              "      <th>1</th>\n",
              "      <td>27</td>\n",
              "      <td>32</td>\n",
              "      <td>0.001</td>\n",
              "      <td>0.982405</td>\n",
              "      <td>0.823529</td>\n",
              "      <td>True</td>\n",
              "      <td>2</td>\n",
              "      <td>7 &amp; 12</td>\n",
              "      <td>5 &amp; 3</td>\n",
              "    </tr>\n",
              "  </tbody>\n",
              "</table>\n",
              "</div>"
            ],
            "text/plain": [
              "   epochs  batch_size     LR  avg_train_acc  avg_val_acc    L2  num_layers  \\\n",
              "0      27          16  0.001       0.981705     0.841562  True           2   \n",
              "1      27          32  0.001       0.982405     0.823529  True           2   \n",
              "\n",
              "  num_filters kernel_sizes  \n",
              "0      7 & 12        5 & 3  \n",
              "1      7 & 12        5 & 3  "
            ]
          },
          "execution_count": 29,
          "metadata": {},
          "output_type": "execute_result"
        }
      ],
      "source": [
        "# Defining dataframe to store results from 3 fold testing on various versions of model\n",
        "train_res = pd.read_csv(\"June_7_Network_Results.csv\", index_col= 0)\n",
        "train_res"
      ]
    },
    {
      "cell_type": "code",
      "execution_count": null,
      "id": "06af9049",
      "metadata": {
        "scrolled": false,
        "id": "06af9049",
        "outputId": "d52b8239-070a-4a7e-8651-215441a31eb5"
      },
      "outputs": [
        {
          "name": "stderr",
          "output_type": "stream",
          "text": [
            "  4%|███                                                                                | 1/27 [00:11<04:52, 11.23s/it]"
          ]
        },
        {
          "name": "stdout",
          "output_type": "stream",
          "text": [
            "Epoch 1/27 - Loss: 0.713 - Acc: 0.727\n",
            "              Val_loss: 0.949 - Val_acc: 0.629\n"
          ]
        },
        {
          "name": "stderr",
          "output_type": "stream",
          "text": [
            " 41%|█████████████████████████████████▍                                                | 11/27 [01:49<02:34,  9.65s/it]"
          ]
        },
        {
          "name": "stdout",
          "output_type": "stream",
          "text": [
            "Epoch 11/27 - Loss: 0.177 - Acc: 0.943\n",
            "              Val_loss: 0.869 - Val_acc: 0.711\n"
          ]
        },
        {
          "name": "stderr",
          "output_type": "stream",
          "text": [
            " 78%|███████████████████████████████████████████████████████████████▊                  | 21/27 [03:24<00:56,  9.50s/it]"
          ]
        },
        {
          "name": "stdout",
          "output_type": "stream",
          "text": [
            "Epoch 21/27 - Loss: 0.087 - Acc: 0.978\n",
            "              Val_loss: 0.670 - Val_acc: 0.805\n"
          ]
        },
        {
          "name": "stderr",
          "output_type": "stream",
          "text": [
            "                                                                                                                       \r"
          ]
        },
        {
          "name": "stdout",
          "output_type": "stream",
          "text": [
            "func:'train'  took: 268.2083 sec\n"
          ]
        },
        {
          "name": "stderr",
          "output_type": "stream",
          "text": [
            "  4%|███                                                                                | 1/27 [00:11<05:06, 11.77s/it]"
          ]
        },
        {
          "name": "stdout",
          "output_type": "stream",
          "text": [
            "Epoch 1/27 - Loss: 0.789 - Acc: 0.680\n",
            "              Val_loss: 1.036 - Val_acc: 0.618\n"
          ]
        },
        {
          "name": "stderr",
          "output_type": "stream",
          "text": [
            " 41%|█████████████████████████████████▍                                                | 11/27 [01:49<02:31,  9.49s/it]"
          ]
        },
        {
          "name": "stdout",
          "output_type": "stream",
          "text": [
            "Epoch 11/27 - Loss: 0.201 - Acc: 0.933\n",
            "              Val_loss: 0.819 - Val_acc: 0.735\n"
          ]
        },
        {
          "name": "stderr",
          "output_type": "stream",
          "text": [
            " 78%|███████████████████████████████████████████████████████████████▊                  | 21/27 [03:26<00:57,  9.61s/it]"
          ]
        },
        {
          "name": "stdout",
          "output_type": "stream",
          "text": [
            "Epoch 21/27 - Loss: 0.105 - Acc: 0.973\n",
            "              Val_loss: 0.655 - Val_acc: 0.808\n"
          ]
        },
        {
          "name": "stderr",
          "output_type": "stream",
          "text": [
            "                                                                                                                       \r"
          ]
        },
        {
          "name": "stdout",
          "output_type": "stream",
          "text": [
            "func:'train'  took: 266.8811 sec\n"
          ]
        },
        {
          "name": "stderr",
          "output_type": "stream",
          "text": [
            "  4%|███                                                                                | 1/27 [00:13<06:01, 13.90s/it]"
          ]
        },
        {
          "name": "stdout",
          "output_type": "stream",
          "text": [
            "Epoch 1/27 - Loss: 0.698 - Acc: 0.721\n",
            "              Val_loss: 1.078 - Val_acc: 0.609\n"
          ]
        },
        {
          "name": "stderr",
          "output_type": "stream",
          "text": [
            " 41%|█████████████████████████████████▍                                                | 11/27 [01:50<02:34,  9.67s/it]"
          ]
        },
        {
          "name": "stdout",
          "output_type": "stream",
          "text": [
            "Epoch 11/27 - Loss: 0.179 - Acc: 0.939\n",
            "              Val_loss: 0.798 - Val_acc: 0.738\n"
          ]
        },
        {
          "name": "stderr",
          "output_type": "stream",
          "text": [
            " 78%|███████████████████████████████████████████████████████████████▊                  | 21/27 [03:29<00:59,  9.87s/it]"
          ]
        },
        {
          "name": "stdout",
          "output_type": "stream",
          "text": [
            "Epoch 21/27 - Loss: 0.089 - Acc: 0.976\n",
            "              Val_loss: 0.707 - Val_acc: 0.788\n"
          ]
        },
        {
          "name": "stderr",
          "output_type": "stream",
          "text": [
            "                                                                                                                       \r"
          ]
        },
        {
          "name": "stdout",
          "output_type": "stream",
          "text": [
            "func:'train'  took: 272.1463 sec\n",
            "Average train accuracy: 0.9852941176470572\n",
            "Average validation accuracy: 0.8196778711484582\n"
          ]
        },
        {
          "data": {
            "image/png": "[encoded data removed]",
            "text/plain": [
              "<Figure size 432x288 with 1 Axes>"
            ]
          },
          "metadata": {
            "needs_background": "light"
          },
          "output_type": "display_data"
        },
        {
          "data": {
            "image/png": "[encoded data removed]",
            "text/plain": [
              "<Figure size 432x288 with 1 Axes>"
            ]
          },
          "metadata": {
            "needs_background": "light"
          },
          "output_type": "display_data"
        },
        {
          "data": {
            "image/png": "[encoded data removed]",
            "text/plain": [
              "<Figure size 432x288 with 1 Axes>"
            ]
          },
          "metadata": {
            "needs_background": "light"
          },
          "output_type": "display_data"
        }
      ],
      "source": [
        "from sklearn.model_selection import KFold\n",
        "kfold = KFold(n_splits= 3, shuffle = True)\n",
        "# Initializing lists to store values for reporting mean acc and for confusion matrix\n",
        "train_acc = []\n",
        "all_test_pred_labels = []\n",
        "val_acc = []\n",
        "# Defining parameters tested in this iteration\n",
        "epochs = 27\n",
        "batchsize = 32\n",
        "lr = 1e-3\n",
        "l2 = True\n",
        "num_layers = 2\n",
        "num_filters =  \"7 & 12\"\n",
        "kernel_sizes = \"5 & 3\"\n",
        "for train_ind, test_ind in kfold.split(X_train, train_y):\n",
        "        trainfold_X = X_train[train_ind]\n",
        "        trainfold_y = train_y[train_ind]\n",
        "        valfold_x = X_train[test_ind]\n",
        "        valfold_y = train_y[test_ind]\n",
        "        cnn = CNN().to('mps') # Use .to(torch.device('mps')) to save data and model to GPU\n",
        "        mlp_trainer = Trainer(cnn, 'adam', 1e-3, epoch= epochs, batch_size= batchsize)\n",
        "        train_val_dict = mlp_trainer.train(trainfold_X, trainfold_y, valfold_x, valfold_y, early_stop= True, l2= l2,\n",
        "                                           tens_logger= cnn_logger)\n",
        "        # Filling train and validation accuracies\n",
        "        train_acc.append(train_val_dict['accuracies'][-1])\n",
        "        val_acc.append(max(train_val_dict['val_accuracies']))\n",
        "        # Plotting Training & Validation Loss\n",
        "        plt.figure()\n",
        "        plt.plot(train_val_dict['losses'])\n",
        "        plt.plot(train_val_dict['val_losses'])\n",
        "        plt.legend(['train_loss', 'val_loss'])\n",
        "        plt.title(\"Train and Validation Loss\")\n",
        "        plt.ylabel('Loss')\n",
        "        plt.xlabel('epochs');\n",
        "print('Average train accuracy:', np.mean(train_acc))\n",
        "print('Average validation accuracy:', np.mean(val_acc))\n",
        "train_res.loc[len(train_res.index)] = [epochs, batchsize, lr, np.mean(train_acc), np.mean(val_acc), l2,\n",
        "                                       num_layers, num_filters, kernel_sizes]"
      ]
    },
    {
      "cell_type": "code",
      "execution_count": null,
      "id": "c70eff96",
      "metadata": {
        "id": "c70eff96",
        "outputId": "02e8003f-9821-48df-9f8b-8726e65b3a66"
      },
      "outputs": [
        {
          "data": {
            "text/html": [
              "<div>\n",
              "<style scoped>\n",
              "    .dataframe tbody tr th:only-of-type {\n",
              "        vertical-align: middle;\n",
              "    }\n",
              "\n",
              "    .dataframe tbody tr th {\n",
              "        vertical-align: top;\n",
              "    }\n",
              "\n",
              "    .dataframe thead th {\n",
              "        text-align: right;\n",
              "    }\n",
              "</style>\n",
              "<table border=\"1\" class=\"dataframe\">\n",
              "  <thead>\n",
              "    <tr style=\"text-align: right;\">\n",
              "      <th></th>\n",
              "      <th>epochs</th>\n",
              "      <th>batch_size</th>\n",
              "      <th>LR</th>\n",
              "      <th>avg_train_acc</th>\n",
              "      <th>avg_val_acc</th>\n",
              "      <th>L2</th>\n",
              "      <th>num_layers</th>\n",
              "      <th>num_filters</th>\n",
              "      <th>kernel_sizes</th>\n",
              "    </tr>\n",
              "  </thead>\n",
              "  <tbody>\n",
              "    <tr>\n",
              "      <th>0</th>\n",
              "      <td>27</td>\n",
              "      <td>16</td>\n",
              "      <td>0.001</td>\n",
              "      <td>0.981705</td>\n",
              "      <td>0.841562</td>\n",
              "      <td>True</td>\n",
              "      <td>2</td>\n",
              "      <td>7 &amp; 12</td>\n",
              "      <td>5 &amp; 3</td>\n",
              "    </tr>\n",
              "    <tr>\n",
              "      <th>1</th>\n",
              "      <td>27</td>\n",
              "      <td>32</td>\n",
              "      <td>0.001</td>\n",
              "      <td>0.982405</td>\n",
              "      <td>0.823529</td>\n",
              "      <td>True</td>\n",
              "      <td>2</td>\n",
              "      <td>7 &amp; 12</td>\n",
              "      <td>5 &amp; 3</td>\n",
              "    </tr>\n",
              "    <tr>\n",
              "      <th>2</th>\n",
              "      <td>27</td>\n",
              "      <td>32</td>\n",
              "      <td>0.001</td>\n",
              "      <td>0.982756</td>\n",
              "      <td>0.817052</td>\n",
              "      <td>True</td>\n",
              "      <td>2</td>\n",
              "      <td>7 &amp; 12</td>\n",
              "      <td>5 &amp; 3</td>\n",
              "    </tr>\n",
              "    <tr>\n",
              "      <th>3</th>\n",
              "      <td>27</td>\n",
              "      <td>32</td>\n",
              "      <td>0.001</td>\n",
              "      <td>0.985294</td>\n",
              "      <td>0.819678</td>\n",
              "      <td>True</td>\n",
              "      <td>2</td>\n",
              "      <td>7 &amp; 12</td>\n",
              "      <td>5 &amp; 3</td>\n",
              "    </tr>\n",
              "  </tbody>\n",
              "</table>\n",
              "</div>"
            ],
            "text/plain": [
              "   epochs  batch_size     LR  avg_train_acc  avg_val_acc    L2  num_layers  \\\n",
              "0      27          16  0.001       0.981705     0.841562  True           2   \n",
              "1      27          32  0.001       0.982405     0.823529  True           2   \n",
              "2      27          32  0.001       0.982756     0.817052  True           2   \n",
              "3      27          32  0.001       0.985294     0.819678  True           2   \n",
              "\n",
              "  num_filters kernel_sizes  \n",
              "0      7 & 12        5 & 3  \n",
              "1      7 & 12        5 & 3  \n",
              "2      7 & 12        5 & 3  \n",
              "3      7 & 12        5 & 3  "
            ]
          },
          "execution_count": 50,
          "metadata": {},
          "output_type": "execute_result"
        }
      ],
      "source": [
        "train_res"
      ]
    },
    {
      "cell_type": "code",
      "execution_count": null,
      "id": "b8b5bb99",
      "metadata": {
        "id": "b8b5bb99",
        "outputId": "74d505a7-f5cb-4db1-c4b3-d71363b1ab58"
      },
      "outputs": [
        {
          "data": {
            "text/html": [
              "<div>\n",
              "<style scoped>\n",
              "    .dataframe tbody tr th:only-of-type {\n",
              "        vertical-align: middle;\n",
              "    }\n",
              "\n",
              "    .dataframe tbody tr th {\n",
              "        vertical-align: top;\n",
              "    }\n",
              "\n",
              "    .dataframe thead th {\n",
              "        text-align: right;\n",
              "    }\n",
              "</style>\n",
              "<table border=\"1\" class=\"dataframe\">\n",
              "  <thead>\n",
              "    <tr style=\"text-align: right;\">\n",
              "      <th></th>\n",
              "      <th>epochs</th>\n",
              "      <th>batch_size</th>\n",
              "      <th>LR</th>\n",
              "      <th>avg_train_acc</th>\n",
              "      <th>avg_val_acc</th>\n",
              "      <th>L2</th>\n",
              "      <th>num_layers</th>\n",
              "      <th>num_filters</th>\n",
              "      <th>kernel_sizes</th>\n",
              "    </tr>\n",
              "  </thead>\n",
              "  <tbody>\n",
              "    <tr>\n",
              "      <th>0</th>\n",
              "      <td>27</td>\n",
              "      <td>16</td>\n",
              "      <td>0.001</td>\n",
              "      <td>0.981705</td>\n",
              "      <td>0.841562</td>\n",
              "      <td>True</td>\n",
              "      <td>2</td>\n",
              "      <td>7 &amp; 12</td>\n",
              "      <td>5 &amp; 3</td>\n",
              "    </tr>\n",
              "    <tr>\n",
              "      <th>1</th>\n",
              "      <td>27</td>\n",
              "      <td>32</td>\n",
              "      <td>0.001</td>\n",
              "      <td>0.982405</td>\n",
              "      <td>0.823529</td>\n",
              "      <td>True</td>\n",
              "      <td>2</td>\n",
              "      <td>7 &amp; 12</td>\n",
              "      <td>5 &amp; 3</td>\n",
              "    </tr>\n",
              "    <tr>\n",
              "      <th>3</th>\n",
              "      <td>27</td>\n",
              "      <td>32</td>\n",
              "      <td>0.001</td>\n",
              "      <td>0.985294</td>\n",
              "      <td>0.819678</td>\n",
              "      <td>True</td>\n",
              "      <td>2</td>\n",
              "      <td>7 &amp; 12</td>\n",
              "      <td>5 &amp; 3</td>\n",
              "    </tr>\n",
              "    <tr>\n",
              "      <th>2</th>\n",
              "      <td>27</td>\n",
              "      <td>32</td>\n",
              "      <td>0.001</td>\n",
              "      <td>0.982756</td>\n",
              "      <td>0.817052</td>\n",
              "      <td>True</td>\n",
              "      <td>2</td>\n",
              "      <td>7 &amp; 12</td>\n",
              "      <td>5 &amp; 3</td>\n",
              "    </tr>\n",
              "  </tbody>\n",
              "</table>\n",
              "</div>"
            ],
            "text/plain": [
              "   epochs  batch_size     LR  avg_train_acc  avg_val_acc    L2  num_layers  \\\n",
              "0      27          16  0.001       0.981705     0.841562  True           2   \n",
              "1      27          32  0.001       0.982405     0.823529  True           2   \n",
              "3      27          32  0.001       0.985294     0.819678  True           2   \n",
              "2      27          32  0.001       0.982756     0.817052  True           2   \n",
              "\n",
              "  num_filters kernel_sizes  \n",
              "0      7 & 12        5 & 3  \n",
              "1      7 & 12        5 & 3  \n",
              "3      7 & 12        5 & 3  \n",
              "2      7 & 12        5 & 3  "
            ]
          },
          "execution_count": 51,
          "metadata": {},
          "output_type": "execute_result"
        }
      ],
      "source": [
        "train_res.sort_values(by = 'avg_val_acc', ascending= False).head(10)"
      ]
    },
    {
      "cell_type": "code",
      "execution_count": null,
      "id": "87f9dd4f",
      "metadata": {
        "id": "87f9dd4f"
      },
      "outputs": [],
      "source": [
        "train_res.to_csv(\"June_7_Network_Results.csv\")"
      ]
    },
    {
      "cell_type": "markdown",
      "id": "caee3c4c",
      "metadata": {
        "id": "caee3c4c"
      },
      "source": [
        "## Fully Developed Model"
      ]
    },
    {
      "cell_type": "markdown",
      "source": [
        "### **Test Dataset Accuracy**"
      ],
      "metadata": {
        "id": "LKY0zg08AelS"
      },
      "id": "LKY0zg08AelS"
    },
    {
      "cell_type": "code",
      "source": [
        "test_ds = Audio_DS(arr_test_specs, test_y, device = \"cuda\")"
      ],
      "metadata": {
        "id": "pLbDyQWI6ZaB"
      },
      "id": "pLbDyQWI6ZaB",
      "execution_count": 118,
      "outputs": []
    },
    {
      "cell_type": "code",
      "source": [
        "test_pred_labels, test_y = mlp_trainer.evaluate(test_ds, val = False)"
      ],
      "metadata": {
        "colab": {
          "base_uri": "https://localhost:8080/"
        },
        "id": "GjtwCS8h6Xqr",
        "outputId": "f7d8e35f-7df1-4378-b98d-bf97d78849fb"
      },
      "id": "GjtwCS8h6Xqr",
      "execution_count": 119,
      "outputs": [
        {
          "output_type": "stream",
          "name": "stdout",
          "text": [
            "Test Accuracy: 0.488\n",
            "Test F1: 0.587\n"
          ]
        }
      ]
    },
    {
      "cell_type": "markdown",
      "source": [
        "### **Test Dataset Classification Metrics**"
      ],
      "metadata": {
        "id": "kGnj1BX7G9_D"
      },
      "id": "kGnj1BX7G9_D"
    },
    {
      "cell_type": "markdown",
      "source": [
        "### Training Loop Code"
      ],
      "metadata": {
        "id": "4oFd6Ea6HhdI"
      },
      "id": "4oFd6Ea6HhdI"
    },
    {
      "cell_type": "code",
      "source": [
        "from torch.utils.data import DataLoader, WeightedRandomSampler\n",
        "\n",
        "# Instantiating Dataset Class\n",
        "train_ds = Audio_DS(arr_train_specs, train_y, device= \"cuda\")\n",
        "\n",
        "# Calculating class weights based on inverse class frequencies\n",
        "# Class Frequencies\n",
        "counts_series = df_train_mapping['Imp_Sob'].value_counts()\n",
        "class_counts = counts_series.values  # Replace with actual class frequencies\n",
        "sample_weights = [1 / counts_series.loc[class_val] for class_val in df_train_mapping['Imp_Sob']]\n",
        "\n",
        "# Instantiating WeightedRandomSampler\n",
        "sampler = WeightedRandomSampler(sample_weights, num_samples=len(train_ds), replacement=True)\n",
        "\n",
        "# Creating DataLoader with WeightedRandomSampler\n",
        "batch_size = 32\n",
        "train_dataloader = DataLoader(train_ds, batch_size=32, sampler=sampler)"
      ],
      "metadata": {
        "id": "LpD2onXHLP-T"
      },
      "id": "LpD2onXHLP-T",
      "execution_count": null,
      "outputs": []
    },
    {
      "cell_type": "code",
      "source": [
        "epochs = 27\n",
        "batchsize = 32\n",
        "lr = 1e-3\n",
        "l2 = True"
      ],
      "metadata": {
        "id": "v0jdQyJj4tvW"
      },
      "id": "v0jdQyJj4tvW",
      "execution_count": 56,
      "outputs": []
    },
    {
      "cell_type": "code",
      "source": [
        "batch = next(iter(train_dataloader))\n",
        "print(\"Batch shape:\", batch[0].shape)  # Print the shape of inputs\n",
        "print(\"Batch labels:\", batch[1])"
      ],
      "metadata": {
        "colab": {
          "base_uri": "https://localhost:8080/"
        },
        "id": "uFe1MFQS69Hn",
        "outputId": "525bd666-2d2a-4588-a9be-0e470920a574"
      },
      "id": "uFe1MFQS69Hn",
      "execution_count": 57,
      "outputs": [
        {
          "output_type": "stream",
          "name": "stdout",
          "text": [
            "Batch shape: torch.Size([32, 1, 128, 300])\n",
            "Batch labels: tensor([0, 1, 1, 0, 0, 1, 0, 0, 0, 0, 1, 1, 1, 0, 1, 1, 1, 0, 0, 1, 1, 1, 0, 0,\n",
            "        1, 1, 1, 1, 1, 0, 1, 1], device='cuda:0')\n"
          ]
        }
      ]
    },
    {
      "cell_type": "code",
      "source": [
        "import torch.optim as optim\n",
        "from torchmetrics.classification import BinaryF1Score\n",
        "model = CNN().to(device)\n",
        "f1 = BinaryF1Score().to(device)\n",
        "\n",
        "# Define your lists for storing epoch_acc, epoch_loss\n",
        "list_epaccs = []\n",
        "list_eploss = []\n",
        "list_epf1s = []\n",
        "\n",
        "# Define your optimizer\n",
        "optimizer = optim.Adam(model.parameters(), lr=lr)\n",
        "\n",
        "# Training loop\n",
        "for epoch in range(epochs):\n",
        "\n",
        "  # Initializing epoch metrics\n",
        "  epoch_loss = 0\n",
        "  epoch_acc = 0\n",
        "  epoch_f1 = 0\n",
        "\n",
        "  for inputs, batch_labels in train_dataloader:\n",
        "\n",
        "    prop_ds = len(batch_labels) / len(train_ds) # Proportion of Dataset in Batch\n",
        "\n",
        "    # Zeroing out Gradient to prevent backlog of gradients\n",
        "    optimizer.zero_grad()\n",
        "    # Predicting Labels for each class\n",
        "    batch_logits = model(inputs)\n",
        "    # Using Cross Entropy Loss\n",
        "    loss = nn.CrossEntropyLoss()(batch_logits, batch_labels)\n",
        "    if l2:\n",
        "      ### Compute the loss with L2 regularization ###\n",
        "      # Square and sum each entry in each of the arrays and then sum all outputs from all arrays\n",
        "      loss = loss + 1e-5 * sum([(wei ** 2).sum() for wei in model.parameters()])\n",
        "    loss.backward() # Batchpropogation of losses through neurons\n",
        "    optimizer.step() # Updating parameters\n",
        "\n",
        "    #Updating Loss, Accuracy, F1 on a batch basis since many batchs define an epoch\n",
        "    epoch_loss += loss.detach().item() * prop_ds\n",
        "    batch_preds = torch.argmax(batch_logits, axis = -1)\n",
        "    batch_acc = sum(torch.argmax(batch_logits, dim = 1) == batch_labels) / len(batch_labels)\n",
        "    batch_f1 = f1(torch.argmax(batch_logits, axis = -1), batch_labels)\n",
        "    epoch_f1 += batch_f1 * prop_ds\n",
        "    epoch_acc += batch_acc.detach().item() * prop_ds\n",
        "\n",
        "  list_epaccs.append(epoch_acc)\n",
        "  list_eploss.append(epoch_loss)\n",
        "  list_epf1s.append(epoch_f1)\n",
        "  print(f\"Epoch [{epoch+1}/{epochs}], Loss: {(epoch_loss):.4f}, Acc: {epoch_acc:.4f}, F1: {epoch_f1.item():.4f} \")"
      ],
      "metadata": {
        "colab": {
          "base_uri": "https://localhost:8080/"
        },
        "id": "NmtwIffsxh2N",
        "outputId": "a38f961f-2931-4c09-cf6f-70bbcf7ba439"
      },
      "id": "NmtwIffsxh2N",
      "execution_count": 59,
      "outputs": [
        {
          "output_type": "stream",
          "name": "stdout",
          "text": [
            "Epoch [1/27], Loss: 0.7223, Acc: 0.5583, F1: 0.5178 \n",
            "Epoch [2/27], Loss: 0.6695, Acc: 0.6002, F1: 0.5742 \n",
            "Epoch [3/27], Loss: 0.6613, Acc: 0.6067, F1: 0.5661 \n",
            "Epoch [4/27], Loss: 0.6561, Acc: 0.6028, F1: 0.5249 \n",
            "Epoch [5/27], Loss: 0.6311, Acc: 0.6394, F1: 0.6223 \n",
            "Epoch [6/27], Loss: 0.6274, Acc: 0.6561, F1: 0.6400 \n",
            "Epoch [7/27], Loss: 0.6184, Acc: 0.6542, F1: 0.6353 \n",
            "Epoch [8/27], Loss: 0.5942, Acc: 0.6819, F1: 0.6676 \n",
            "Epoch [9/27], Loss: 0.5751, Acc: 0.6983, F1: 0.6862 \n",
            "Epoch [10/27], Loss: 0.5720, Acc: 0.7075, F1: 0.6780 \n",
            "Epoch [11/27], Loss: 0.5489, Acc: 0.7151, F1: 0.7018 \n",
            "Epoch [12/27], Loss: 0.5813, Acc: 0.6923, F1: 0.6619 \n",
            "Epoch [13/27], Loss: 0.5185, Acc: 0.7497, F1: 0.7478 \n",
            "Epoch [14/27], Loss: 0.5423, Acc: 0.7290, F1: 0.7017 \n",
            "Epoch [15/27], Loss: 0.5075, Acc: 0.7587, F1: 0.7555 \n",
            "Epoch [16/27], Loss: 0.5332, Acc: 0.7378, F1: 0.7246 \n",
            "Epoch [17/27], Loss: 0.4902, Acc: 0.7699, F1: 0.7609 \n",
            "Epoch [18/27], Loss: 0.4930, Acc: 0.7643, F1: 0.7589 \n",
            "Epoch [19/27], Loss: 0.4854, Acc: 0.7791, F1: 0.7632 \n",
            "Epoch [20/27], Loss: 0.4594, Acc: 0.7886, F1: 0.7828 \n",
            "Epoch [21/27], Loss: 0.4849, Acc: 0.7686, F1: 0.7597 \n",
            "Epoch [22/27], Loss: 0.4569, Acc: 0.7897, F1: 0.7817 \n",
            "Epoch [23/27], Loss: 0.4444, Acc: 0.8030, F1: 0.7939 \n",
            "Epoch [24/27], Loss: 0.4696, Acc: 0.7787, F1: 0.7707 \n",
            "Epoch [25/27], Loss: 0.4353, Acc: 0.8032, F1: 0.7877 \n",
            "Epoch [26/27], Loss: 0.4427, Acc: 0.7985, F1: 0.7878 \n",
            "Epoch [27/27], Loss: 0.4272, Acc: 0.8118, F1: 0.8010 \n"
          ]
        }
      ]
    },
    {
      "cell_type": "code",
      "source": [
        "from sklearn.metrics import confusion_matrix\n",
        "model_conf = confusion_matrix(y_pred= test_pred_labels, y_true= test_y, labels= [0,1])\n",
        "model_conf"
      ],
      "metadata": {
        "colab": {
          "base_uri": "https://localhost:8080/"
        },
        "id": "8lRnnVH47Df-",
        "outputId": "d4a74d30-bee3-43ba-871d-bd5e9e5fd121"
      },
      "id": "8lRnnVH47Df-",
      "execution_count": 120,
      "outputs": [
        {
          "output_type": "execute_result",
          "data": {
            "text/plain": [
              "array([[ 440,  430],\n",
              "       [1551, 1449]])"
            ]
          },
          "metadata": {},
          "execution_count": 120
        }
      ]
    },
    {
      "cell_type": "code",
      "source": [
        "ax = sns.heatmap(model_conf,annot = True, fmt=\".1f\", xticklabels= dict_labels.keys(), yticklabels= dict_labels.keys())\n",
        "ax.figure.set_size_inches(7,7)\n",
        "ax.set_title(\"CNN Test Confusion Matrix\");\n",
        "ax.set_xlabel(\"Predicted Label\")\n",
        "ax.set_ylabel(\"True Label\");"
      ],
      "metadata": {
        "colab": {
          "base_uri": "https://localhost:8080/",
          "height": 661
        },
        "id": "NMyQ3ThK7Vij",
        "outputId": "e8588869-3626-4a7e-fba6-4471879c7a10"
      },
      "id": "NMyQ3ThK7Vij",
      "execution_count": 121,
      "outputs": [
        {
          "output_type": "display_data",
          "data": {
            "text/plain": [
              "<Figure size 700x700 with 2 Axes>"
            ],
            "image/png": "[encoded data removed]"
          },
          "metadata": {}
        }
      ]
    },
    {
      "cell_type": "code",
      "source": [
        "from sklearn.metrics import classification_report\n",
        "print(classification_report(test_y, test_pred_labels, target_names=dict_labels.keys()))"
      ],
      "metadata": {
        "colab": {
          "base_uri": "https://localhost:8080/"
        },
        "id": "HhtUGXsL72jb",
        "outputId": "8392c0dd-f23d-4600-a351-88eed153c46d"
      },
      "id": "HhtUGXsL72jb",
      "execution_count": 122,
      "outputs": [
        {
          "output_type": "stream",
          "name": "stdout",
          "text": [
            "              precision    recall  f1-score   support\n",
            "\n",
            "           I       0.22      0.51      0.31       870\n",
            "           S       0.77      0.48      0.59      3000\n",
            "\n",
            "    accuracy                           0.49      3870\n",
            "   macro avg       0.50      0.49      0.45      3870\n",
            "weighted avg       0.65      0.49      0.53      3870\n",
            "\n"
          ]
        }
      ]
    }
  ],
  "metadata": {
    "kernelspec": {
      "display_name": "Python 3",
      "name": "python3"
    },
    "language_info": {
      "name": "python"
    },
    "colab": {
      "provenance": [],
      "collapsed_sections": [
        "079ef749"
      ],
      "gpuType": "T4",
      "include_colab_link": true
    },
    "accelerator": "GPU"
  },
  "nbformat": 4,
  "nbformat_minor": 5
}