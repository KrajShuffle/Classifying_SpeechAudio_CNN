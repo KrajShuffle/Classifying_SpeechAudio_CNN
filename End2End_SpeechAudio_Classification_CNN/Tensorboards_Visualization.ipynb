{
  "nbformat": 4,
  "nbformat_minor": 0,
  "metadata": {
    "colab": {
      "provenance": []
    },
    "kernelspec": {
      "name": "python3",
      "display_name": "Python 3"
    },
    "language_info": {
      "name": "python"
    }
  },
  "cells": [
    {
      "cell_type": "code",
      "source": [
        "%cd drive/MyDrive/SR_22050_Male_ArchParam_Tests\n",
        "%pwd"
      ],
      "metadata": {
        "colab": {
          "base_uri": "https://localhost:8080/",
          "height": 52
        },
        "id": "-QgqlJn9AGhK",
        "outputId": "50737385-b6d0-4efa-b689-5b02c1d0f50d"
      },
      "execution_count": null,
      "outputs": [
        {
          "output_type": "stream",
          "name": "stdout",
          "text": [
            "/content/drive/MyDrive/SR_22050_Male_ArchParam_Tests\n"
          ]
        },
        {
          "output_type": "execute_result",
          "data": {
            "text/plain": [
              "'/content/drive/MyDrive/SR_22050_Male_ArchParam_Tests'"
            ],
            "application/vnd.google.colaboratory.intrinsic+json": {
              "type": "string"
            }
          },
          "metadata": {},
          "execution_count": 1
        }
      ]
    },
    {
      "cell_type": "code",
      "execution_count": null,
      "metadata": {
        "id": "YlBnQqh4_aiL"
      },
      "outputs": [],
      "source": [
        "import pandas as pd\n",
        "import numpy as np\n",
        "import torch"
      ]
    },
    {
      "cell_type": "markdown",
      "source": [
        "### Tensorboards Visualizations"
      ],
      "metadata": {
        "id": "PNgEu4Kay_yX"
      }
    },
    {
      "cell_type": "markdown",
      "source": [
        "Use Separate Ports if want to visualize runs stored in different subdirectories of current working directory"
      ],
      "metadata": {
        "id": "BGfviJYHRMEJ"
      }
    },
    {
      "cell_type": "code",
      "source": [
        "%load_ext tensorboard\n",
        "%tensorboard --port 6006 --logdir  \"10_25_Male_0_91_TrainF1_CorrSpec22050SR_DatParamTests\""
      ],
      "metadata": {
        "id": "oK42pcHfuTcj"
      },
      "execution_count": null,
      "outputs": []
    },
    {
      "cell_type": "code",
      "source": [
        "%load_ext tensorboard\n",
        "%tensorboard --port 6007 --logdir  \"10_26_Male_0_91_TrainF1_CorrSpec22050SR_Hoplen_Tests\""
      ],
      "metadata": {
        "id": "dObaAWgyvWYR"
      },
      "execution_count": null,
      "outputs": []
    },
    {
      "cell_type": "code",
      "source": [
        "%load_ext tensorboard\n",
        "%tensorboard --port 6008 --logdir  \"10_20_Male_0_9_TrainF1_CorrSpec22050SR_ArchTests\""
      ],
      "metadata": {
        "id": "9IkBuCAw4cXb"
      },
      "execution_count": null,
      "outputs": []
    },
    {
      "cell_type": "code",
      "source": [
        "%load_ext tensorboard\n",
        "%tensorboard --port 6009 --logdir  \"10_30_Male_0_91_TrainF1_CorrSpec22050SR_DP2DTest\""
      ],
      "metadata": {
        "id": "pKgPGwz7hzvg"
      },
      "execution_count": null,
      "outputs": []
    },
    {
      "cell_type": "code",
      "source": [
        "%load_ext tensorboard\n",
        "%tensorboard --port 6010 --logdir  \"10_27_Male_0_91_TrainF1_CorrSpec22050SR_ArchTest_2DDropout\""
      ],
      "metadata": {
        "id": "QKkUMqQPgtH_"
      },
      "execution_count": null,
      "outputs": []
    },
    {
      "cell_type": "markdown",
      "source": [
        "### If a run finishes, but disconnects where the folder containing the TensorBoard log files doesn't get downloaded\n",
        "\n",
        "Steps to Retrieve & Save Run Metrics\n",
        "1. Copy current run's metrics outputted after each epoch\n",
        "2. In ChatGPT, Enter Prompt: Can you extract the labeled data while ignoring counter updates if present? Shift+Enter to then paste run's metrics\n",
        "3. Check if all epochs are extracted and if so, ask to be outputted in a table format.\n",
        "4. Copy Values into excel or Apple's Numbers to be saved as a .CSV\n",
        "5. Upload .CSV to be saved to current directory"
      ],
      "metadata": {
        "id": "UuHT-Cd6CM48"
      }
    },
    {
      "cell_type": "code",
      "source": [
        "df_1024 = pd.read_csv(\"64mels_NOWRS_Male_2conv8_16_1fc_run.csv\", index_col = 0, header= 1).set_index('Epoch')\n",
        "print(\"Number of rows & cols:\", df_1024.shape)\n",
        "df_1024.tail()"
      ],
      "metadata": {
        "colab": {
          "base_uri": "https://localhost:8080/",
          "height": 248
        },
        "id": "MmRpF7k4_6ub",
        "outputId": "cdfb0e15-07d6-4c72-caae-829c9ec9ef1e"
      },
      "execution_count": null,
      "outputs": [
        {
          "output_type": "stream",
          "name": "stdout",
          "text": [
            "Number of rows & cols: (49, 6)\n"
          ]
        },
        {
          "output_type": "execute_result",
          "data": {
            "text/plain": [
              "       Train_Loss  Train_Acc  Train_F1  Val_Loss  Val_Acc  Val_F1\n",
              "Epoch                                                            \n",
              "45          0.981      0.645     0.675     1.078    0.650   0.669\n",
              "46          0.982      0.637     0.669     1.088    0.665   0.678\n",
              "47          0.981      0.642     0.674     1.079    0.647   0.666\n",
              "48          0.981      0.640     0.672     1.080    0.654   0.672\n",
              "49          0.980      0.640     0.672     1.086    0.660   0.675"
            ],
            "text/html": [
              "\n",
              "  <div id=\"df-cf6f8cae-467b-48dd-a384-5948fb817947\" class=\"colab-df-container\">\n",
              "    <div>\n",
              "<style scoped>\n",
              "    .dataframe tbody tr th:only-of-type {\n",
              "        vertical-align: middle;\n",
              "    }\n",
              "\n",
              "    .dataframe tbody tr th {\n",
              "        vertical-align: top;\n",
              "    }\n",
              "\n",
              "    .dataframe thead th {\n",
              "        text-align: right;\n",
              "    }\n",
              "</style>\n",
              "<table border=\"1\" class=\"dataframe\">\n",
              "  <thead>\n",
              "    <tr style=\"text-align: right;\">\n",
              "      <th></th>\n",
              "      <th>Train_Loss</th>\n",
              "      <th>Train_Acc</th>\n",
              "      <th>Train_F1</th>\n",
              "      <th>Val_Loss</th>\n",
              "      <th>Val_Acc</th>\n",
              "      <th>Val_F1</th>\n",
              "    </tr>\n",
              "    <tr>\n",
              "      <th>Epoch</th>\n",
              "      <th></th>\n",
              "      <th></th>\n",
              "      <th></th>\n",
              "      <th></th>\n",
              "      <th></th>\n",
              "      <th></th>\n",
              "    </tr>\n",
              "  </thead>\n",
              "  <tbody>\n",
              "    <tr>\n",
              "      <th>45</th>\n",
              "      <td>0.981</td>\n",
              "      <td>0.645</td>\n",
              "      <td>0.675</td>\n",
              "      <td>1.078</td>\n",
              "      <td>0.650</td>\n",
              "      <td>0.669</td>\n",
              "    </tr>\n",
              "    <tr>\n",
              "      <th>46</th>\n",
              "      <td>0.982</td>\n",
              "      <td>0.637</td>\n",
              "      <td>0.669</td>\n",
              "      <td>1.088</td>\n",
              "      <td>0.665</td>\n",
              "      <td>0.678</td>\n",
              "    </tr>\n",
              "    <tr>\n",
              "      <th>47</th>\n",
              "      <td>0.981</td>\n",
              "      <td>0.642</td>\n",
              "      <td>0.674</td>\n",
              "      <td>1.079</td>\n",
              "      <td>0.647</td>\n",
              "      <td>0.666</td>\n",
              "    </tr>\n",
              "    <tr>\n",
              "      <th>48</th>\n",
              "      <td>0.981</td>\n",
              "      <td>0.640</td>\n",
              "      <td>0.672</td>\n",
              "      <td>1.080</td>\n",
              "      <td>0.654</td>\n",
              "      <td>0.672</td>\n",
              "    </tr>\n",
              "    <tr>\n",
              "      <th>49</th>\n",
              "      <td>0.980</td>\n",
              "      <td>0.640</td>\n",
              "      <td>0.672</td>\n",
              "      <td>1.086</td>\n",
              "      <td>0.660</td>\n",
              "      <td>0.675</td>\n",
              "    </tr>\n",
              "  </tbody>\n",
              "</table>\n",
              "</div>\n",
              "    <div class=\"colab-df-buttons\">\n",
              "\n",
              "  <div class=\"colab-df-container\">\n",
              "    <button class=\"colab-df-convert\" onclick=\"convertToInteractive('df-cf6f8cae-467b-48dd-a384-5948fb817947')\"\n",
              "            title=\"Convert this dataframe to an interactive table.\"\n",
              "            style=\"display:none;\">\n",
              "\n",
              "  <svg xmlns=\"http://www.w3.org/2000/svg\" height=\"24px\" viewBox=\"0 -960 960 960\">\n",
              "    <path d=\"M120-120v-720h720v720H120Zm60-500h600v-160H180v160Zm220 220h160v-160H400v160Zm0 220h160v-160H400v160ZM180-400h160v-160H180v160Zm440 0h160v-160H620v160ZM180-180h160v-160H180v160Zm440 0h160v-160H620v160Z\"/>\n",
              "  </svg>\n",
              "    </button>\n",
              "\n",
              "  <style>\n",
              "    .colab-df-container {\n",
              "      display:flex;\n",
              "      gap: 12px;\n",
              "    }\n",
              "\n",
              "    .colab-df-convert {\n",
              "      background-color: #E8F0FE;\n",
              "      border: none;\n",
              "      border-radius: 50%;\n",
              "      cursor: pointer;\n",
              "      display: none;\n",
              "      fill: #1967D2;\n",
              "      height: 32px;\n",
              "      padding: 0 0 0 0;\n",
              "      width: 32px;\n",
              "    }\n",
              "\n",
              "    .colab-df-convert:hover {\n",
              "      background-color: #E2EBFA;\n",
              "      box-shadow: 0px 1px 2px rgba(60, 64, 67, 0.3), 0px 1px 3px 1px rgba(60, 64, 67, 0.15);\n",
              "      fill: #174EA6;\n",
              "    }\n",
              "\n",
              "    .colab-df-buttons div {\n",
              "      margin-bottom: 4px;\n",
              "    }\n",
              "\n",
              "    [theme=dark] .colab-df-convert {\n",
              "      background-color: #3B4455;\n",
              "      fill: #D2E3FC;\n",
              "    }\n",
              "\n",
              "    [theme=dark] .colab-df-convert:hover {\n",
              "      background-color: #434B5C;\n",
              "      box-shadow: 0px 1px 3px 1px rgba(0, 0, 0, 0.15);\n",
              "      filter: drop-shadow(0px 1px 2px rgba(0, 0, 0, 0.3));\n",
              "      fill: #FFFFFF;\n",
              "    }\n",
              "  </style>\n",
              "\n",
              "    <script>\n",
              "      const buttonEl =\n",
              "        document.querySelector('#df-cf6f8cae-467b-48dd-a384-5948fb817947 button.colab-df-convert');\n",
              "      buttonEl.style.display =\n",
              "        google.colab.kernel.accessAllowed ? 'block' : 'none';\n",
              "\n",
              "      async function convertToInteractive(key) {\n",
              "        const element = document.querySelector('#df-cf6f8cae-467b-48dd-a384-5948fb817947');\n",
              "        const dataTable =\n",
              "          await google.colab.kernel.invokeFunction('convertToInteractive',\n",
              "                                                    [key], {});\n",
              "        if (!dataTable) return;\n",
              "\n",
              "        const docLinkHtml = 'Like what you see? Visit the ' +\n",
              "          '<a target=\"_blank\" href=https://colab.research.google.com/notebooks/data_table.ipynb>data table notebook</a>'\n",
              "          + ' to learn more about interactive tables.';\n",
              "        element.innerHTML = '';\n",
              "        dataTable['output_type'] = 'display_data';\n",
              "        await google.colab.output.renderOutput(dataTable, element);\n",
              "        const docLink = document.createElement('div');\n",
              "        docLink.innerHTML = docLinkHtml;\n",
              "        element.appendChild(docLink);\n",
              "      }\n",
              "    </script>\n",
              "  </div>\n",
              "\n",
              "\n",
              "<div id=\"df-4d403657-8aab-4aa3-931f-0ad747b2f9ce\">\n",
              "  <button class=\"colab-df-quickchart\" onclick=\"quickchart('df-4d403657-8aab-4aa3-931f-0ad747b2f9ce')\"\n",
              "            title=\"Suggest charts.\"\n",
              "            style=\"display:none;\">\n",
              "\n",
              "<svg xmlns=\"http://www.w3.org/2000/svg\" height=\"24px\"viewBox=\"0 0 24 24\"\n",
              "     width=\"24px\">\n",
              "    <g>\n",
              "        <path d=\"M19 3H5c-1.1 0-2 .9-2 2v14c0 1.1.9 2 2 2h14c1.1 0 2-.9 2-2V5c0-1.1-.9-2-2-2zM9 17H7v-7h2v7zm4 0h-2V7h2v10zm4 0h-2v-4h2v4z\"/>\n",
              "    </g>\n",
              "</svg>\n",
              "  </button>\n",
              "\n",
              "<style>\n",
              "  .colab-df-quickchart {\n",
              "      --bg-color: #E8F0FE;\n",
              "      --fill-color: #1967D2;\n",
              "      --hover-bg-color: #E2EBFA;\n",
              "      --hover-fill-color: #174EA6;\n",
              "      --disabled-fill-color: #AAA;\n",
              "      --disabled-bg-color: #DDD;\n",
              "  }\n",
              "\n",
              "  [theme=dark] .colab-df-quickchart {\n",
              "      --bg-color: #3B4455;\n",
              "      --fill-color: #D2E3FC;\n",
              "      --hover-bg-color: #434B5C;\n",
              "      --hover-fill-color: #FFFFFF;\n",
              "      --disabled-bg-color: #3B4455;\n",
              "      --disabled-fill-color: #666;\n",
              "  }\n",
              "\n",
              "  .colab-df-quickchart {\n",
              "    background-color: var(--bg-color);\n",
              "    border: none;\n",
              "    border-radius: 50%;\n",
              "    cursor: pointer;\n",
              "    display: none;\n",
              "    fill: var(--fill-color);\n",
              "    height: 32px;\n",
              "    padding: 0;\n",
              "    width: 32px;\n",
              "  }\n",
              "\n",
              "  .colab-df-quickchart:hover {\n",
              "    background-color: var(--hover-bg-color);\n",
              "    box-shadow: 0 1px 2px rgba(60, 64, 67, 0.3), 0 1px 3px 1px rgba(60, 64, 67, 0.15);\n",
              "    fill: var(--button-hover-fill-color);\n",
              "  }\n",
              "\n",
              "  .colab-df-quickchart-complete:disabled,\n",
              "  .colab-df-quickchart-complete:disabled:hover {\n",
              "    background-color: var(--disabled-bg-color);\n",
              "    fill: var(--disabled-fill-color);\n",
              "    box-shadow: none;\n",
              "  }\n",
              "\n",
              "  .colab-df-spinner {\n",
              "    border: 2px solid var(--fill-color);\n",
              "    border-color: transparent;\n",
              "    border-bottom-color: var(--fill-color);\n",
              "    animation:\n",
              "      spin 1s steps(1) infinite;\n",
              "  }\n",
              "\n",
              "  @keyframes spin {\n",
              "    0% {\n",
              "      border-color: transparent;\n",
              "      border-bottom-color: var(--fill-color);\n",
              "      border-left-color: var(--fill-color);\n",
              "    }\n",
              "    20% {\n",
              "      border-color: transparent;\n",
              "      border-left-color: var(--fill-color);\n",
              "      border-top-color: var(--fill-color);\n",
              "    }\n",
              "    30% {\n",
              "      border-color: transparent;\n",
              "      border-left-color: var(--fill-color);\n",
              "      border-top-color: var(--fill-color);\n",
              "      border-right-color: var(--fill-color);\n",
              "    }\n",
              "    40% {\n",
              "      border-color: transparent;\n",
              "      border-right-color: var(--fill-color);\n",
              "      border-top-color: var(--fill-color);\n",
              "    }\n",
              "    60% {\n",
              "      border-color: transparent;\n",
              "      border-right-color: var(--fill-color);\n",
              "    }\n",
              "    80% {\n",
              "      border-color: transparent;\n",
              "      border-right-color: var(--fill-color);\n",
              "      border-bottom-color: var(--fill-color);\n",
              "    }\n",
              "    90% {\n",
              "      border-color: transparent;\n",
              "      border-bottom-color: var(--fill-color);\n",
              "    }\n",
              "  }\n",
              "</style>\n",
              "\n",
              "  <script>\n",
              "    async function quickchart(key) {\n",
              "      const quickchartButtonEl =\n",
              "        document.querySelector('#' + key + ' button');\n",
              "      quickchartButtonEl.disabled = true;  // To prevent multiple clicks.\n",
              "      quickchartButtonEl.classList.add('colab-df-spinner');\n",
              "      try {\n",
              "        const charts = await google.colab.kernel.invokeFunction(\n",
              "            'suggestCharts', [key], {});\n",
              "      } catch (error) {\n",
              "        console.error('Error during call to suggestCharts:', error);\n",
              "      }\n",
              "      quickchartButtonEl.classList.remove('colab-df-spinner');\n",
              "      quickchartButtonEl.classList.add('colab-df-quickchart-complete');\n",
              "    }\n",
              "    (() => {\n",
              "      let quickchartButtonEl =\n",
              "        document.querySelector('#df-4d403657-8aab-4aa3-931f-0ad747b2f9ce button');\n",
              "      quickchartButtonEl.style.display =\n",
              "        google.colab.kernel.accessAllowed ? 'block' : 'none';\n",
              "    })();\n",
              "  </script>\n",
              "</div>\n",
              "\n",
              "    </div>\n",
              "  </div>\n"
            ]
          },
          "metadata": {},
          "execution_count": 7
        }
      ]
    },
    {
      "cell_type": "markdown",
      "source": [
        "### Initializing logger and loading in data"
      ],
      "metadata": {
        "id": "S5gQynC6CLpT"
      }
    },
    {
      "cell_type": "code",
      "source": [
        "# Stored in dictionary with nfft as key and dataframe as dictionary, Used if want to recover multiple or single runs\n",
        "mapping_nfft_df = {1024: df_1024}"
      ],
      "metadata": {
        "id": "gYvIsdnaCLLx"
      },
      "execution_count": null,
      "outputs": []
    },
    {
      "cell_type": "code",
      "source": [
        "from torch.utils.tensorboard import SummaryWriter\n",
        "for nfft, df in mapping_nfft_df.items():\n",
        "    clen = 0.75\n",
        "    fmax = 5000\n",
        "    nmels = 64\n",
        "    hop_len = 64\n",
        "    nfft = 1024\n",
        "    # log_folder (Saved Location): Main Folder_with all runs/run_specific_name\n",
        "    #log_folder = f'Female_Spectrify_CNN/fmax_{fmax}_nfft_{nfft}_nmels_{nmels}_hlen_{hop_len}_{clen}sec'\n",
        "    #log_folder = log_folder.replace('.', '_')\n",
        "    tens_logger = SummaryWriter(log_dir = log_folder)\n",
        "    for num_epochs in df.index:\n",
        "      loss, train_acc, train_f1, val_loss, val_acc, val_f1 = df.loc[num_epochs]\n",
        "      tens_logger.add_scalar(\"Train Loss\", loss, num_epochs)\n",
        "      tens_logger.add_scalar(\"Train Accuracy\", train_acc, num_epochs)\n",
        "      tens_logger.add_scalar(\"Train F1\", train_f1, num_epochs)\n",
        "      tens_logger.add_scalar(\"Val Loss\", val_loss, num_epochs)\n",
        "      tens_logger.add_scalar(\"Val Acc\", val_acc, num_epochs)\n",
        "      tens_logger.add_scalar(\"Val F1\", val_f1, num_epochs)\n",
        "    tens_logger.flush()\n",
        "    tens_logger.close()"
      ],
      "metadata": {
        "id": "ZU89dqXxCJxI"
      },
      "execution_count": null,
      "outputs": []
    }
  ]
}