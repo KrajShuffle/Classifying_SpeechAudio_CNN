{
  "nbformat": 4,
  "nbformat_minor": 0,
  "metadata": {
    "colab": {
      "provenance": []
    },
    "kernelspec": {
      "name": "python3",
      "display_name": "Python 3"
    },
    "language_info": {
      "name": "python"
    }
  },
  "cells": [
    {
      "cell_type": "markdown",
      "source": [
        "## Downsampling Audio to Desired Sample Rate & Saving FilePaths of New AudioFiles & associated TextGrids to Target Directory or Subdirectories of Target Directory\n",
        "\n",
        "Assumptions:\n",
        "1. Working in directory containing the Dataset (.wav files and associated TextGrids)\n",
        "> Have an alternate workflow if the Dataset is already split into directories of Train, Test, & Val\n",
        "2. Each .wav file and associated .TextGrid file have the exact same filename, but differ in their extension (.wav vs. .TextGrid)\n",
        "Outputs:\n",
        "1. New Directory in current directory containing the resampled audio & associated TextGrid for each file\n",
        "2. Dataset containing names of TextGrids which can be concatenated with other dataframes containing information such as Gender, Classification Target Class, etc. to be saved as a .CSV and input into the SpectrifyDS_Creation notebook for creating a chunk mapping."
      ],
      "metadata": {
        "id": "53illhPwEUYF"
      }
    },
    {
      "cell_type": "markdown",
      "source": [
        "### Setup"
      ],
      "metadata": {
        "id": "yTWBKj6ACcqZ"
      }
    },
    {
      "cell_type": "code",
      "source": [
        "from google.colab import drive\n",
        "drive.mount('/content/drive') # Allows connection to google drive for file access"
      ],
      "metadata": {
        "id": "Tk6RRoIeNyF5",
        "colab": {
          "base_uri": "https://localhost:8080/"
        },
        "outputId": "c419e2c4-0121-42f4-bf32-31ceb848abb5"
      },
      "execution_count": 1,
      "outputs": [
        {
          "output_type": "stream",
          "name": "stdout",
          "text": [
            "Drive already mounted at /content/drive; to attempt to forcibly remount, call drive.mount(\"/content/drive\", force_remount=True).\n"
          ]
        }
      ]
    },
    {
      "cell_type": "code",
      "execution_count": 2,
      "metadata": {
        "colab": {
          "base_uri": "https://localhost:8080/",
          "height": 52
        },
        "id": "pIHG1s9EaPUo",
        "outputId": "a8e4e157-fd19-44b8-e016-95a8009ea92b"
      },
      "outputs": [
        {
          "output_type": "stream",
          "name": "stdout",
          "text": [
            "/content/drive/MyDrive/Audio_SR_22050\n"
          ]
        },
        {
          "output_type": "execute_result",
          "data": {
            "text/plain": [
              "'/content/drive/MyDrive/Audio_SR_22050'"
            ],
            "application/vnd.google.colaboratory.intrinsic+json": {
              "type": "string"
            }
          },
          "metadata": {},
          "execution_count": 2
        }
      ],
      "source": [
        "%cd /content/drive/MyDrive/Audio_SR_22050/\n",
        "%pwd"
      ]
    },
    {
      "cell_type": "code",
      "source": [
        "!pip install soundfile"
      ],
      "metadata": {
        "colab": {
          "base_uri": "https://localhost:8080/"
        },
        "id": "wS3VAIeid040",
        "outputId": "41c0d533-1c35-4db4-b419-753f5e41bbe3"
      },
      "execution_count": 3,
      "outputs": [
        {
          "output_type": "stream",
          "name": "stdout",
          "text": [
            "Requirement already satisfied: soundfile in /usr/local/lib/python3.10/dist-packages (0.12.1)\n",
            "Requirement already satisfied: cffi>=1.0 in /usr/local/lib/python3.10/dist-packages (from soundfile) (1.16.0)\n",
            "Requirement already satisfied: pycparser in /usr/local/lib/python3.10/dist-packages (from cffi>=1.0->soundfile) (2.21)\n"
          ]
        }
      ]
    },
    {
      "cell_type": "code",
      "source": [
        "import pandas as pd\n",
        "import scipy\n",
        "import os\n",
        "import numpy as np"
      ],
      "metadata": {
        "id": "2qrGCgH1apeg"
      },
      "execution_count": 10,
      "outputs": []
    },
    {
      "cell_type": "markdown",
      "source": [
        "### Saving Downsampled Audio Files & Associated TextGrids to Subdirectories of Target Directory if Dataset is split within multiple directories or directly to Target Directory if no split has occurred"
      ],
      "metadata": {
        "id": "hWxBI83FxM6y"
      }
    },
    {
      "cell_type": "code",
      "source": [
        "def create_df_files(dir_name):\n",
        "\n",
        "  # Creating list of all TextGrid Filepaths\n",
        "  tg_files = []\n",
        "\n",
        "  if isinstance(dir_name, str): # If working with a single directory with saved audio files & TextGrids\n",
        "    for filename in os.listdir(dir_name):\n",
        "      if filename.endswith(\".TextGrid\"):\n",
        "        tg_files.append(dir_name + \"/\" + filename)\n",
        "  elif isinstance(dir_name, list): # If working with multiple directories with saved audio files & TextGrids\n",
        "    for ds_type in dir_name:\n",
        "      for filename in os.listdir(ds_type):\n",
        "        if filename.endswith(\".TextGrid\"):\n",
        "          tg_files.append(ds_type + \"/\" + filename)\n",
        "  print(\"Total Number of TextGrid Files in Dataset:\", len(tg_files))\n",
        "\n",
        "  # Storing TextGrid Filepaths, subdirectory name, and TextGrid Filenames into separate columns\n",
        "  df_files = pd.DataFrame(tg_files, columns = ['filename'])\n",
        "  print(df_files.shape)\n",
        "  df_files[['dir_name', 'pure_name']] = df_files['filename'].str.split('/', expand = True)\n",
        "  return df_files"
      ],
      "metadata": {
        "id": "Qm5j1S17xMo_"
      },
      "execution_count": 16,
      "outputs": []
    },
    {
      "cell_type": "code",
      "source": [
        "# Example with Single Directory where the Audio Files & Associated TextGrids are saved\n",
        "df_files = create_df_files(\"Audio_SR_22050_Sample\")\n",
        "df_files.head()"
      ],
      "metadata": {
        "colab": {
          "base_uri": "https://localhost:8080/",
          "height": 238
        },
        "id": "urG3QQyZxry6",
        "outputId": "5f0fcbaa-e319-462a-8c77-c2e5854138a5"
      },
      "execution_count": 26,
      "outputs": [
        {
          "output_type": "stream",
          "name": "stdout",
          "text": [
            "Total Number of TextGrid Files in Dataset: 30\n",
            "(30, 1)\n"
          ]
        },
        {
          "output_type": "execute_result",
          "data": {
            "text/plain": [
              "                                         filename               dir_name  \\\n",
              "0  Audio_SR_22050_Sample/5444038033_h_00.TextGrid  Audio_SR_22050_Sample   \n",
              "1  Audio_SR_22050_Sample/0801081005_h_00.TextGrid  Audio_SR_22050_Sample   \n",
              "2  Audio_SR_22050_Sample/5814069018_h_00.TextGrid  Audio_SR_22050_Sample   \n",
              "3  Audio_SR_22050_Sample/5564042025_h_00.TextGrid  Audio_SR_22050_Sample   \n",
              "4  Audio_SR_22050_Sample/5374045014_h_00.TextGrid  Audio_SR_22050_Sample   \n",
              "\n",
              "                  pure_name  \n",
              "0  5444038033_h_00.TextGrid  \n",
              "1  0801081005_h_00.TextGrid  \n",
              "2  5814069018_h_00.TextGrid  \n",
              "3  5564042025_h_00.TextGrid  \n",
              "4  5374045014_h_00.TextGrid  "
            ],
            "text/html": [
              "\n",
              "  <div id=\"df-30385065-ba02-4c35-8c26-3bedd420408e\" class=\"colab-df-container\">\n",
              "    <div>\n",
              "<style scoped>\n",
              "    .dataframe tbody tr th:only-of-type {\n",
              "        vertical-align: middle;\n",
              "    }\n",
              "\n",
              "    .dataframe tbody tr th {\n",
              "        vertical-align: top;\n",
              "    }\n",
              "\n",
              "    .dataframe thead th {\n",
              "        text-align: right;\n",
              "    }\n",
              "</style>\n",
              "<table border=\"1\" class=\"dataframe\">\n",
              "  <thead>\n",
              "    <tr style=\"text-align: right;\">\n",
              "      <th></th>\n",
              "      <th>filename</th>\n",
              "      <th>dir_name</th>\n",
              "      <th>pure_name</th>\n",
              "    </tr>\n",
              "  </thead>\n",
              "  <tbody>\n",
              "    <tr>\n",
              "      <th>0</th>\n",
              "      <td>Audio_SR_22050_Sample/5444038033_h_00.TextGrid</td>\n",
              "      <td>Audio_SR_22050_Sample</td>\n",
              "      <td>5444038033_h_00.TextGrid</td>\n",
              "    </tr>\n",
              "    <tr>\n",
              "      <th>1</th>\n",
              "      <td>Audio_SR_22050_Sample/0801081005_h_00.TextGrid</td>\n",
              "      <td>Audio_SR_22050_Sample</td>\n",
              "      <td>0801081005_h_00.TextGrid</td>\n",
              "    </tr>\n",
              "    <tr>\n",
              "      <th>2</th>\n",
              "      <td>Audio_SR_22050_Sample/5814069018_h_00.TextGrid</td>\n",
              "      <td>Audio_SR_22050_Sample</td>\n",
              "      <td>5814069018_h_00.TextGrid</td>\n",
              "    </tr>\n",
              "    <tr>\n",
              "      <th>3</th>\n",
              "      <td>Audio_SR_22050_Sample/5564042025_h_00.TextGrid</td>\n",
              "      <td>Audio_SR_22050_Sample</td>\n",
              "      <td>5564042025_h_00.TextGrid</td>\n",
              "    </tr>\n",
              "    <tr>\n",
              "      <th>4</th>\n",
              "      <td>Audio_SR_22050_Sample/5374045014_h_00.TextGrid</td>\n",
              "      <td>Audio_SR_22050_Sample</td>\n",
              "      <td>5374045014_h_00.TextGrid</td>\n",
              "    </tr>\n",
              "  </tbody>\n",
              "</table>\n",
              "</div>\n",
              "    <div class=\"colab-df-buttons\">\n",
              "\n",
              "  <div class=\"colab-df-container\">\n",
              "    <button class=\"colab-df-convert\" onclick=\"convertToInteractive('df-30385065-ba02-4c35-8c26-3bedd420408e')\"\n",
              "            title=\"Convert this dataframe to an interactive table.\"\n",
              "            style=\"display:none;\">\n",
              "\n",
              "  <svg xmlns=\"http://www.w3.org/2000/svg\" height=\"24px\" viewBox=\"0 -960 960 960\">\n",
              "    <path d=\"M120-120v-720h720v720H120Zm60-500h600v-160H180v160Zm220 220h160v-160H400v160Zm0 220h160v-160H400v160ZM180-400h160v-160H180v160Zm440 0h160v-160H620v160ZM180-180h160v-160H180v160Zm440 0h160v-160H620v160Z\"/>\n",
              "  </svg>\n",
              "    </button>\n",
              "\n",
              "  <style>\n",
              "    .colab-df-container {\n",
              "      display:flex;\n",
              "      gap: 12px;\n",
              "    }\n",
              "\n",
              "    .colab-df-convert {\n",
              "      background-color: #E8F0FE;\n",
              "      border: none;\n",
              "      border-radius: 50%;\n",
              "      cursor: pointer;\n",
              "      display: none;\n",
              "      fill: #1967D2;\n",
              "      height: 32px;\n",
              "      padding: 0 0 0 0;\n",
              "      width: 32px;\n",
              "    }\n",
              "\n",
              "    .colab-df-convert:hover {\n",
              "      background-color: #E2EBFA;\n",
              "      box-shadow: 0px 1px 2px rgba(60, 64, 67, 0.3), 0px 1px 3px 1px rgba(60, 64, 67, 0.15);\n",
              "      fill: #174EA6;\n",
              "    }\n",
              "\n",
              "    .colab-df-buttons div {\n",
              "      margin-bottom: 4px;\n",
              "    }\n",
              "\n",
              "    [theme=dark] .colab-df-convert {\n",
              "      background-color: #3B4455;\n",
              "      fill: #D2E3FC;\n",
              "    }\n",
              "\n",
              "    [theme=dark] .colab-df-convert:hover {\n",
              "      background-color: #434B5C;\n",
              "      box-shadow: 0px 1px 3px 1px rgba(0, 0, 0, 0.15);\n",
              "      filter: drop-shadow(0px 1px 2px rgba(0, 0, 0, 0.3));\n",
              "      fill: #FFFFFF;\n",
              "    }\n",
              "  </style>\n",
              "\n",
              "    <script>\n",
              "      const buttonEl =\n",
              "        document.querySelector('#df-30385065-ba02-4c35-8c26-3bedd420408e button.colab-df-convert');\n",
              "      buttonEl.style.display =\n",
              "        google.colab.kernel.accessAllowed ? 'block' : 'none';\n",
              "\n",
              "      async function convertToInteractive(key) {\n",
              "        const element = document.querySelector('#df-30385065-ba02-4c35-8c26-3bedd420408e');\n",
              "        const dataTable =\n",
              "          await google.colab.kernel.invokeFunction('convertToInteractive',\n",
              "                                                    [key], {});\n",
              "        if (!dataTable) return;\n",
              "\n",
              "        const docLinkHtml = 'Like what you see? Visit the ' +\n",
              "          '<a target=\"_blank\" href=https://colab.research.google.com/notebooks/data_table.ipynb>data table notebook</a>'\n",
              "          + ' to learn more about interactive tables.';\n",
              "        element.innerHTML = '';\n",
              "        dataTable['output_type'] = 'display_data';\n",
              "        await google.colab.output.renderOutput(dataTable, element);\n",
              "        const docLink = document.createElement('div');\n",
              "        docLink.innerHTML = docLinkHtml;\n",
              "        element.appendChild(docLink);\n",
              "      }\n",
              "    </script>\n",
              "  </div>\n",
              "\n",
              "\n",
              "<div id=\"df-a06d24c2-146d-4f39-a031-853ff34ccc88\">\n",
              "  <button class=\"colab-df-quickchart\" onclick=\"quickchart('df-a06d24c2-146d-4f39-a031-853ff34ccc88')\"\n",
              "            title=\"Suggest charts\"\n",
              "            style=\"display:none;\">\n",
              "\n",
              "<svg xmlns=\"http://www.w3.org/2000/svg\" height=\"24px\"viewBox=\"0 0 24 24\"\n",
              "     width=\"24px\">\n",
              "    <g>\n",
              "        <path d=\"M19 3H5c-1.1 0-2 .9-2 2v14c0 1.1.9 2 2 2h14c1.1 0 2-.9 2-2V5c0-1.1-.9-2-2-2zM9 17H7v-7h2v7zm4 0h-2V7h2v10zm4 0h-2v-4h2v4z\"/>\n",
              "    </g>\n",
              "</svg>\n",
              "  </button>\n",
              "\n",
              "<style>\n",
              "  .colab-df-quickchart {\n",
              "      --bg-color: #E8F0FE;\n",
              "      --fill-color: #1967D2;\n",
              "      --hover-bg-color: #E2EBFA;\n",
              "      --hover-fill-color: #174EA6;\n",
              "      --disabled-fill-color: #AAA;\n",
              "      --disabled-bg-color: #DDD;\n",
              "  }\n",
              "\n",
              "  [theme=dark] .colab-df-quickchart {\n",
              "      --bg-color: #3B4455;\n",
              "      --fill-color: #D2E3FC;\n",
              "      --hover-bg-color: #434B5C;\n",
              "      --hover-fill-color: #FFFFFF;\n",
              "      --disabled-bg-color: #3B4455;\n",
              "      --disabled-fill-color: #666;\n",
              "  }\n",
              "\n",
              "  .colab-df-quickchart {\n",
              "    background-color: var(--bg-color);\n",
              "    border: none;\n",
              "    border-radius: 50%;\n",
              "    cursor: pointer;\n",
              "    display: none;\n",
              "    fill: var(--fill-color);\n",
              "    height: 32px;\n",
              "    padding: 0;\n",
              "    width: 32px;\n",
              "  }\n",
              "\n",
              "  .colab-df-quickchart:hover {\n",
              "    background-color: var(--hover-bg-color);\n",
              "    box-shadow: 0 1px 2px rgba(60, 64, 67, 0.3), 0 1px 3px 1px rgba(60, 64, 67, 0.15);\n",
              "    fill: var(--button-hover-fill-color);\n",
              "  }\n",
              "\n",
              "  .colab-df-quickchart-complete:disabled,\n",
              "  .colab-df-quickchart-complete:disabled:hover {\n",
              "    background-color: var(--disabled-bg-color);\n",
              "    fill: var(--disabled-fill-color);\n",
              "    box-shadow: none;\n",
              "  }\n",
              "\n",
              "  .colab-df-spinner {\n",
              "    border: 2px solid var(--fill-color);\n",
              "    border-color: transparent;\n",
              "    border-bottom-color: var(--fill-color);\n",
              "    animation:\n",
              "      spin 1s steps(1) infinite;\n",
              "  }\n",
              "\n",
              "  @keyframes spin {\n",
              "    0% {\n",
              "      border-color: transparent;\n",
              "      border-bottom-color: var(--fill-color);\n",
              "      border-left-color: var(--fill-color);\n",
              "    }\n",
              "    20% {\n",
              "      border-color: transparent;\n",
              "      border-left-color: var(--fill-color);\n",
              "      border-top-color: var(--fill-color);\n",
              "    }\n",
              "    30% {\n",
              "      border-color: transparent;\n",
              "      border-left-color: var(--fill-color);\n",
              "      border-top-color: var(--fill-color);\n",
              "      border-right-color: var(--fill-color);\n",
              "    }\n",
              "    40% {\n",
              "      border-color: transparent;\n",
              "      border-right-color: var(--fill-color);\n",
              "      border-top-color: var(--fill-color);\n",
              "    }\n",
              "    60% {\n",
              "      border-color: transparent;\n",
              "      border-right-color: var(--fill-color);\n",
              "    }\n",
              "    80% {\n",
              "      border-color: transparent;\n",
              "      border-right-color: var(--fill-color);\n",
              "      border-bottom-color: var(--fill-color);\n",
              "    }\n",
              "    90% {\n",
              "      border-color: transparent;\n",
              "      border-bottom-color: var(--fill-color);\n",
              "    }\n",
              "  }\n",
              "</style>\n",
              "\n",
              "  <script>\n",
              "    async function quickchart(key) {\n",
              "      const quickchartButtonEl =\n",
              "        document.querySelector('#' + key + ' button');\n",
              "      quickchartButtonEl.disabled = true;  // To prevent multiple clicks.\n",
              "      quickchartButtonEl.classList.add('colab-df-spinner');\n",
              "      try {\n",
              "        const charts = await google.colab.kernel.invokeFunction(\n",
              "            'suggestCharts', [key], {});\n",
              "      } catch (error) {\n",
              "        console.error('Error during call to suggestCharts:', error);\n",
              "      }\n",
              "      quickchartButtonEl.classList.remove('colab-df-spinner');\n",
              "      quickchartButtonEl.classList.add('colab-df-quickchart-complete');\n",
              "    }\n",
              "    (() => {\n",
              "      let quickchartButtonEl =\n",
              "        document.querySelector('#df-a06d24c2-146d-4f39-a031-853ff34ccc88 button');\n",
              "      quickchartButtonEl.style.display =\n",
              "        google.colab.kernel.accessAllowed ? 'block' : 'none';\n",
              "    })();\n",
              "  </script>\n",
              "</div>\n",
              "\n",
              "    </div>\n",
              "  </div>\n"
            ]
          },
          "metadata": {},
          "execution_count": 26
        }
      ]
    },
    {
      "cell_type": "code",
      "source": [
        "# Example with Multiple Directories where the Audio Files & Associated TextGrids are saved\n",
        "df_files = create_df_files([\"Train_Sample\", \"Val_Sample\", \"Test_Sample\"])\n",
        "df_files.head()"
      ],
      "metadata": {
        "colab": {
          "base_uri": "https://localhost:8080/",
          "height": 238
        },
        "id": "zsx7-yu1pasp",
        "outputId": "fea78e19-66bf-4698-e3de-b332d04ae40d"
      },
      "execution_count": 32,
      "outputs": [
        {
          "output_type": "stream",
          "name": "stdout",
          "text": [
            "Total Number of TextGrid Files in Dataset: 30\n",
            "(30, 1)\n"
          ]
        },
        {
          "output_type": "execute_result",
          "data": {
            "text/plain": [
              "                                        filename      dir_name  \\\n",
              "0  Train_Sample/Copy of 0912075002_h_01.TextGrid  Train_Sample   \n",
              "1  Train_Sample/Copy of 0801081005_h_00.TextGrid  Train_Sample   \n",
              "2  Train_Sample/Copy of 0712054038_h_00.TextGrid  Train_Sample   \n",
              "3  Train_Sample/Copy of 0642071018_h_00.TextGrid  Train_Sample   \n",
              "4  Train_Sample/Copy of 0642071006_h_00.TextGrid  Train_Sample   \n",
              "\n",
              "                          pure_name  \n",
              "0  Copy of 0912075002_h_01.TextGrid  \n",
              "1  Copy of 0801081005_h_00.TextGrid  \n",
              "2  Copy of 0712054038_h_00.TextGrid  \n",
              "3  Copy of 0642071018_h_00.TextGrid  \n",
              "4  Copy of 0642071006_h_00.TextGrid  "
            ],
            "text/html": [
              "\n",
              "  <div id=\"df-ccd1b0ff-2cf1-483a-9b2d-6dca73c62e58\" class=\"colab-df-container\">\n",
              "    <div>\n",
              "<style scoped>\n",
              "    .dataframe tbody tr th:only-of-type {\n",
              "        vertical-align: middle;\n",
              "    }\n",
              "\n",
              "    .dataframe tbody tr th {\n",
              "        vertical-align: top;\n",
              "    }\n",
              "\n",
              "    .dataframe thead th {\n",
              "        text-align: right;\n",
              "    }\n",
              "</style>\n",
              "<table border=\"1\" class=\"dataframe\">\n",
              "  <thead>\n",
              "    <tr style=\"text-align: right;\">\n",
              "      <th></th>\n",
              "      <th>filename</th>\n",
              "      <th>dir_name</th>\n",
              "      <th>pure_name</th>\n",
              "    </tr>\n",
              "  </thead>\n",
              "  <tbody>\n",
              "    <tr>\n",
              "      <th>0</th>\n",
              "      <td>Train_Sample/Copy of 0912075002_h_01.TextGrid</td>\n",
              "      <td>Train_Sample</td>\n",
              "      <td>Copy of 0912075002_h_01.TextGrid</td>\n",
              "    </tr>\n",
              "    <tr>\n",
              "      <th>1</th>\n",
              "      <td>Train_Sample/Copy of 0801081005_h_00.TextGrid</td>\n",
              "      <td>Train_Sample</td>\n",
              "      <td>Copy of 0801081005_h_00.TextGrid</td>\n",
              "    </tr>\n",
              "    <tr>\n",
              "      <th>2</th>\n",
              "      <td>Train_Sample/Copy of 0712054038_h_00.TextGrid</td>\n",
              "      <td>Train_Sample</td>\n",
              "      <td>Copy of 0712054038_h_00.TextGrid</td>\n",
              "    </tr>\n",
              "    <tr>\n",
              "      <th>3</th>\n",
              "      <td>Train_Sample/Copy of 0642071018_h_00.TextGrid</td>\n",
              "      <td>Train_Sample</td>\n",
              "      <td>Copy of 0642071018_h_00.TextGrid</td>\n",
              "    </tr>\n",
              "    <tr>\n",
              "      <th>4</th>\n",
              "      <td>Train_Sample/Copy of 0642071006_h_00.TextGrid</td>\n",
              "      <td>Train_Sample</td>\n",
              "      <td>Copy of 0642071006_h_00.TextGrid</td>\n",
              "    </tr>\n",
              "  </tbody>\n",
              "</table>\n",
              "</div>\n",
              "    <div class=\"colab-df-buttons\">\n",
              "\n",
              "  <div class=\"colab-df-container\">\n",
              "    <button class=\"colab-df-convert\" onclick=\"convertToInteractive('df-ccd1b0ff-2cf1-483a-9b2d-6dca73c62e58')\"\n",
              "            title=\"Convert this dataframe to an interactive table.\"\n",
              "            style=\"display:none;\">\n",
              "\n",
              "  <svg xmlns=\"http://www.w3.org/2000/svg\" height=\"24px\" viewBox=\"0 -960 960 960\">\n",
              "    <path d=\"M120-120v-720h720v720H120Zm60-500h600v-160H180v160Zm220 220h160v-160H400v160Zm0 220h160v-160H400v160ZM180-400h160v-160H180v160Zm440 0h160v-160H620v160ZM180-180h160v-160H180v160Zm440 0h160v-160H620v160Z\"/>\n",
              "  </svg>\n",
              "    </button>\n",
              "\n",
              "  <style>\n",
              "    .colab-df-container {\n",
              "      display:flex;\n",
              "      gap: 12px;\n",
              "    }\n",
              "\n",
              "    .colab-df-convert {\n",
              "      background-color: #E8F0FE;\n",
              "      border: none;\n",
              "      border-radius: 50%;\n",
              "      cursor: pointer;\n",
              "      display: none;\n",
              "      fill: #1967D2;\n",
              "      height: 32px;\n",
              "      padding: 0 0 0 0;\n",
              "      width: 32px;\n",
              "    }\n",
              "\n",
              "    .colab-df-convert:hover {\n",
              "      background-color: #E2EBFA;\n",
              "      box-shadow: 0px 1px 2px rgba(60, 64, 67, 0.3), 0px 1px 3px 1px rgba(60, 64, 67, 0.15);\n",
              "      fill: #174EA6;\n",
              "    }\n",
              "\n",
              "    .colab-df-buttons div {\n",
              "      margin-bottom: 4px;\n",
              "    }\n",
              "\n",
              "    [theme=dark] .colab-df-convert {\n",
              "      background-color: #3B4455;\n",
              "      fill: #D2E3FC;\n",
              "    }\n",
              "\n",
              "    [theme=dark] .colab-df-convert:hover {\n",
              "      background-color: #434B5C;\n",
              "      box-shadow: 0px 1px 3px 1px rgba(0, 0, 0, 0.15);\n",
              "      filter: drop-shadow(0px 1px 2px rgba(0, 0, 0, 0.3));\n",
              "      fill: #FFFFFF;\n",
              "    }\n",
              "  </style>\n",
              "\n",
              "    <script>\n",
              "      const buttonEl =\n",
              "        document.querySelector('#df-ccd1b0ff-2cf1-483a-9b2d-6dca73c62e58 button.colab-df-convert');\n",
              "      buttonEl.style.display =\n",
              "        google.colab.kernel.accessAllowed ? 'block' : 'none';\n",
              "\n",
              "      async function convertToInteractive(key) {\n",
              "        const element = document.querySelector('#df-ccd1b0ff-2cf1-483a-9b2d-6dca73c62e58');\n",
              "        const dataTable =\n",
              "          await google.colab.kernel.invokeFunction('convertToInteractive',\n",
              "                                                    [key], {});\n",
              "        if (!dataTable) return;\n",
              "\n",
              "        const docLinkHtml = 'Like what you see? Visit the ' +\n",
              "          '<a target=\"_blank\" href=https://colab.research.google.com/notebooks/data_table.ipynb>data table notebook</a>'\n",
              "          + ' to learn more about interactive tables.';\n",
              "        element.innerHTML = '';\n",
              "        dataTable['output_type'] = 'display_data';\n",
              "        await google.colab.output.renderOutput(dataTable, element);\n",
              "        const docLink = document.createElement('div');\n",
              "        docLink.innerHTML = docLinkHtml;\n",
              "        element.appendChild(docLink);\n",
              "      }\n",
              "    </script>\n",
              "  </div>\n",
              "\n",
              "\n",
              "<div id=\"df-7ac63090-1407-4f60-9a8d-70479aa9a2c3\">\n",
              "  <button class=\"colab-df-quickchart\" onclick=\"quickchart('df-7ac63090-1407-4f60-9a8d-70479aa9a2c3')\"\n",
              "            title=\"Suggest charts\"\n",
              "            style=\"display:none;\">\n",
              "\n",
              "<svg xmlns=\"http://www.w3.org/2000/svg\" height=\"24px\"viewBox=\"0 0 24 24\"\n",
              "     width=\"24px\">\n",
              "    <g>\n",
              "        <path d=\"M19 3H5c-1.1 0-2 .9-2 2v14c0 1.1.9 2 2 2h14c1.1 0 2-.9 2-2V5c0-1.1-.9-2-2-2zM9 17H7v-7h2v7zm4 0h-2V7h2v10zm4 0h-2v-4h2v4z\"/>\n",
              "    </g>\n",
              "</svg>\n",
              "  </button>\n",
              "\n",
              "<style>\n",
              "  .colab-df-quickchart {\n",
              "      --bg-color: #E8F0FE;\n",
              "      --fill-color: #1967D2;\n",
              "      --hover-bg-color: #E2EBFA;\n",
              "      --hover-fill-color: #174EA6;\n",
              "      --disabled-fill-color: #AAA;\n",
              "      --disabled-bg-color: #DDD;\n",
              "  }\n",
              "\n",
              "  [theme=dark] .colab-df-quickchart {\n",
              "      --bg-color: #3B4455;\n",
              "      --fill-color: #D2E3FC;\n",
              "      --hover-bg-color: #434B5C;\n",
              "      --hover-fill-color: #FFFFFF;\n",
              "      --disabled-bg-color: #3B4455;\n",
              "      --disabled-fill-color: #666;\n",
              "  }\n",
              "\n",
              "  .colab-df-quickchart {\n",
              "    background-color: var(--bg-color);\n",
              "    border: none;\n",
              "    border-radius: 50%;\n",
              "    cursor: pointer;\n",
              "    display: none;\n",
              "    fill: var(--fill-color);\n",
              "    height: 32px;\n",
              "    padding: 0;\n",
              "    width: 32px;\n",
              "  }\n",
              "\n",
              "  .colab-df-quickchart:hover {\n",
              "    background-color: var(--hover-bg-color);\n",
              "    box-shadow: 0 1px 2px rgba(60, 64, 67, 0.3), 0 1px 3px 1px rgba(60, 64, 67, 0.15);\n",
              "    fill: var(--button-hover-fill-color);\n",
              "  }\n",
              "\n",
              "  .colab-df-quickchart-complete:disabled,\n",
              "  .colab-df-quickchart-complete:disabled:hover {\n",
              "    background-color: var(--disabled-bg-color);\n",
              "    fill: var(--disabled-fill-color);\n",
              "    box-shadow: none;\n",
              "  }\n",
              "\n",
              "  .colab-df-spinner {\n",
              "    border: 2px solid var(--fill-color);\n",
              "    border-color: transparent;\n",
              "    border-bottom-color: var(--fill-color);\n",
              "    animation:\n",
              "      spin 1s steps(1) infinite;\n",
              "  }\n",
              "\n",
              "  @keyframes spin {\n",
              "    0% {\n",
              "      border-color: transparent;\n",
              "      border-bottom-color: var(--fill-color);\n",
              "      border-left-color: var(--fill-color);\n",
              "    }\n",
              "    20% {\n",
              "      border-color: transparent;\n",
              "      border-left-color: var(--fill-color);\n",
              "      border-top-color: var(--fill-color);\n",
              "    }\n",
              "    30% {\n",
              "      border-color: transparent;\n",
              "      border-left-color: var(--fill-color);\n",
              "      border-top-color: var(--fill-color);\n",
              "      border-right-color: var(--fill-color);\n",
              "    }\n",
              "    40% {\n",
              "      border-color: transparent;\n",
              "      border-right-color: var(--fill-color);\n",
              "      border-top-color: var(--fill-color);\n",
              "    }\n",
              "    60% {\n",
              "      border-color: transparent;\n",
              "      border-right-color: var(--fill-color);\n",
              "    }\n",
              "    80% {\n",
              "      border-color: transparent;\n",
              "      border-right-color: var(--fill-color);\n",
              "      border-bottom-color: var(--fill-color);\n",
              "    }\n",
              "    90% {\n",
              "      border-color: transparent;\n",
              "      border-bottom-color: var(--fill-color);\n",
              "    }\n",
              "  }\n",
              "</style>\n",
              "\n",
              "  <script>\n",
              "    async function quickchart(key) {\n",
              "      const quickchartButtonEl =\n",
              "        document.querySelector('#' + key + ' button');\n",
              "      quickchartButtonEl.disabled = true;  // To prevent multiple clicks.\n",
              "      quickchartButtonEl.classList.add('colab-df-spinner');\n",
              "      try {\n",
              "        const charts = await google.colab.kernel.invokeFunction(\n",
              "            'suggestCharts', [key], {});\n",
              "      } catch (error) {\n",
              "        console.error('Error during call to suggestCharts:', error);\n",
              "      }\n",
              "      quickchartButtonEl.classList.remove('colab-df-spinner');\n",
              "      quickchartButtonEl.classList.add('colab-df-quickchart-complete');\n",
              "    }\n",
              "    (() => {\n",
              "      let quickchartButtonEl =\n",
              "        document.querySelector('#df-7ac63090-1407-4f60-9a8d-70479aa9a2c3 button');\n",
              "      quickchartButtonEl.style.display =\n",
              "        google.colab.kernel.accessAllowed ? 'block' : 'none';\n",
              "    })();\n",
              "  </script>\n",
              "</div>\n",
              "\n",
              "    </div>\n",
              "  </div>\n"
            ]
          },
          "metadata": {},
          "execution_count": 32
        }
      ]
    },
    {
      "cell_type": "code",
      "source": [
        "# Check if the textgrid files themselves are unique\n",
        "len(df_files['pure_name'].unique()) == df_files.shape[0]"
      ],
      "metadata": {
        "colab": {
          "base_uri": "https://localhost:8080/"
        },
        "id": "8cIIKpLpy07g",
        "outputId": "2805f30e-df12-407d-be83-f3bfc030bc40"
      },
      "execution_count": 34,
      "outputs": [
        {
          "output_type": "execute_result",
          "data": {
            "text/plain": [
              "True"
            ]
          },
          "metadata": {},
          "execution_count": 34
        }
      ]
    },
    {
      "cell_type": "code",
      "source": [
        "import librosa\n",
        "import soundfile as sf\n",
        "from scipy import signal\n",
        "import shutil\n",
        "\n",
        "def dwnsample_audio(df_files, target_dir, current_sr, target_sr):\n",
        "  \"\"\" Verifies each input audio matches the expected sample rate, then downsamples the audio to the target sample rate. Saves the resampled audio & associated textgrid to the target directory.\n",
        "      df_files contains a dataframe with columns for TextGrid relative path, subdirectory/subdirectories containing files, TextGrid name for each TextGrid\n",
        "      Function handles both single and multiple directories storing audio files and saves to a target directory or subdirectories of the target directory\n",
        "  \"\"\"\n",
        "  # If saving to multiple subdirectories within target directory and those subdirectories havent been created yet\n",
        "  if len(np.unique(df_files['dir_name'])) > 1:\n",
        "    for sub_dir in np.unique(df_files['dir_name']):\n",
        "      sub_dir_path = os.path.join(target_dir, sub_dir)\n",
        "      if not os.path.exists(sub_dir_path):\n",
        "        print(sub_dir_path)\n",
        "        os.makedirs(sub_dir_path)\n",
        "\n",
        "  # Load the audio signal\n",
        "  files_recheck = []\n",
        "  for index_pos in range(0, df_files.shape[0]):\n",
        "\n",
        "    # Loading in each audio file\n",
        "    textgrid_abspath, sub_dir, tg_pure_name = df_files.iloc[index_pos]\n",
        "    wav_path = textgrid_abspath.replace(\"TextGrid\", \"wav\")\n",
        "    y, sr  = sf.read(wav_path)\n",
        "\n",
        "    # Downsampling the audio signal to the target sampling rate & verifying current file's sample rate matches expected value for the current sample rate\n",
        "    if sr == current_sr:\n",
        "      target_sr = target_sr\n",
        "\n",
        "      # Resampling the audio signal to the target sampling rate\n",
        "      y_resampled = signal.resample(y, int(len(y) * target_sr / sr))\n",
        "\n",
        "      # Saving the resampled audio file & associated textgrid\n",
        "      if len(np.unique(df_files['dir_name'])) == 1: # Files are all saved in one directory\n",
        "        wavsave_location = target_dir + \"/\" + tg_pure_name.replace(\"TextGrid\", \"wav\")\n",
        "        tgsave_location = target_dir + \"/\" + tg_pure_name\n",
        "      else: # Files are saved in separate directories that have just been created\n",
        "        wavsave_location = target_dir + \"/\" + sub_dir + \"/\" + tg_pure_name.replace(\"TextGrid\", \"wav\")\n",
        "        tgsave_location = target_dir + \"/\" + sub_dir + \"/\" + tg_pure_name\n",
        "\n",
        "      # Saving the resampled audio file & associated textgrid\n",
        "      sf.write(wavsave_location, y_resampled, target_sr)\n",
        "      shutil.copy(textgrid_abspath, tgsave_location)\n",
        "\n",
        "    else:\n",
        "      print(wav_path)\n",
        "      files_recheck.append(wav_path)"
      ],
      "metadata": {
        "id": "S0BACa6o0Aoi"
      },
      "execution_count": 21,
      "outputs": []
    },
    {
      "cell_type": "code",
      "source": [
        "# Calling the above function\n",
        "target_dir = \"Audio_SR_16000\"\n",
        "dwnsample_audio(df_files, target_dir, 22050, 16000)"
      ],
      "metadata": {
        "id": "bnxwBJlh0cDY",
        "colab": {
          "base_uri": "https://localhost:8080/"
        },
        "outputId": "4bb7e983-8bcd-4e64-a31e-baa004ad3dbb"
      },
      "execution_count": 22,
      "outputs": [
        {
          "output_type": "stream",
          "name": "stdout",
          "text": [
            "Audio_SR_16000/Test_Sample\n",
            "Audio_SR_16000/Train_Sample\n",
            "Audio_SR_16000/Val_Sample\n"
          ]
        }
      ]
    },
    {
      "cell_type": "markdown",
      "source": [
        "Verification that All Files Were Correctly Downsampled"
      ],
      "metadata": {
        "id": "ZZON2rMD2D1w"
      }
    },
    {
      "cell_type": "code",
      "source": [
        "def verify_dwnsample(df_files, target_dir):\n",
        "  if len(np.unique(df_files['dir_name'])) == 1: # If files are saved to target directory\n",
        "    ds_count = sum([(\"TextGrid\") in filename for filename in os.listdir(target_dir + \"/\")])\n",
        "    print(ds_count == df_files.shape[0])\n",
        "  else:\n",
        "    counter = 0\n",
        "    for ds_type in df_files['dir_name'].unique(): # If files are saved to subdirectories of the target directory\n",
        "      ds_count = sum([(\"TextGrid\") in filename for filename in os.listdir(target_dir + '/' + ds_type)])\n",
        "      print(ds_type + \":\", ds_count)\n",
        "      counter += ds_count\n",
        "    print(counter == df_files.shape[0])\n",
        "verify_dwnsample(df_files, target_dir)"
      ],
      "metadata": {
        "id": "ENZKqjTC0lp0",
        "colab": {
          "base_uri": "https://localhost:8080/"
        },
        "outputId": "05ddae8e-2fbd-49f1-eab1-29cc74fb31a1"
      },
      "execution_count": 35,
      "outputs": [
        {
          "output_type": "stream",
          "name": "stdout",
          "text": [
            "Train_Sample: 10\n",
            "Val_Sample: 10\n",
            "Test_Sample: 10\n",
            "True\n"
          ]
        }
      ]
    },
    {
      "cell_type": "markdown",
      "source": [
        "### Place for concatenating DataFrame of New TextGrid Filepaths With Other Information: Gender, Target Class, required for creating chunk mapping"
      ],
      "metadata": {
        "id": "c4Gs2Gg-2Hy3"
      }
    },
    {
      "cell_type": "code",
      "source": [
        "df_newdir_paths = target_dir + '/' + df_files['pure_name']\n",
        "print(df_newdir_paths.shape)\n",
        "df_newdir_paths.head()"
      ],
      "metadata": {
        "colab": {
          "base_uri": "https://localhost:8080/"
        },
        "id": "OiR-4NXi2JVA",
        "outputId": "6508dbdc-a0d0-4719-8419-e4c55df8fab7"
      },
      "execution_count": 30,
      "outputs": [
        {
          "output_type": "stream",
          "name": "stdout",
          "text": [
            "(30,)\n"
          ]
        },
        {
          "output_type": "execute_result",
          "data": {
            "text/plain": [
              "0    Audio_SR_16000/5444038033_h_00.TextGrid\n",
              "1    Audio_SR_16000/0801081005_h_00.TextGrid\n",
              "2    Audio_SR_16000/5814069018_h_00.TextGrid\n",
              "3    Audio_SR_16000/5564042025_h_00.TextGrid\n",
              "4    Audio_SR_16000/5374045014_h_00.TextGrid\n",
              "Name: pure_name, dtype: object"
            ]
          },
          "metadata": {},
          "execution_count": 30
        }
      ]
    }
  ]
}